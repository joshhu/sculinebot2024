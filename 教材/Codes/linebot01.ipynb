{
  "cells": [
    {
      "cell_type": "code",
      "execution_count": null,
      "metadata": {},
      "outputs": [],
      "source": []
    },
    {
      "cell_type": "markdown",
      "metadata": {
        "id": "8wC3436DCUT9"
      },
      "source": [
        "### 安裝需要的套件\n",
        "* `Flask`\n",
        "* `pyngrok`\n",
        "\n",
        "使用`--quiet`隱藏訊息輸出"
      ]
    },
    {
      "cell_type": "code",
      "execution_count": null,
      "metadata": {
        "colab": {
          "base_uri": "https://localhost:8080/"
        },
        "id": "Ow77gbfuxp2b",
        "outputId": "8bdda15d-19b6-4791-af64-b21c615183d8"
      },
      "outputs": [
        {
          "name": "stdout",
          "output_type": "stream",
          "text": [
            "\u001b[?25l     \u001b[90m━━━━━━━━━━━━━━━━━━━━━━━━━━━━━━━━━━━━━━━━\u001b[0m \u001b[32m0.0/99.7 kB\u001b[0m \u001b[31m?\u001b[0m eta \u001b[36m-:--:--\u001b[0m\r\u001b[2K     \u001b[91m━━━━━━━━━━━━━━━━━━━━━━━━━━━━━━━━━━━━\u001b[0m\u001b[91m╸\u001b[0m\u001b[90m━━━\u001b[0m \u001b[32m92.2/99.7 kB\u001b[0m \u001b[31m3.1 MB/s\u001b[0m eta \u001b[36m0:00:01\u001b[0m\r\u001b[2K     \u001b[90m━━━━━━━━━━━━━━━━━━━━━━━━━━━━━━━━━━━━━━━━\u001b[0m \u001b[32m99.7/99.7 kB\u001b[0m \u001b[31m2.3 MB/s\u001b[0m eta \u001b[36m0:00:00\u001b[0m\n",
            "\u001b[?25h\u001b[31mERROR: Cannot uninstall 'blinker'. It is a distutils installed project and thus we cannot accurately determine which files belong to it which would lead to only a partial uninstall.\u001b[0m\u001b[31m\n",
            "\u001b[2K     \u001b[90m━━━━━━━━━━━━━━━━━━━━━━━━━━━━━━━━━━━━━━━━\u001b[0m \u001b[32m758.4/758.4 kB\u001b[0m \u001b[31m4.4 MB/s\u001b[0m eta \u001b[36m0:00:00\u001b[0m\n",
            "\u001b[2K     \u001b[90m━━━━━━━━━━━━━━━━━━━━━━━━━━━━━━━━━━━━━━━━\u001b[0m \u001b[32m137.6/137.6 kB\u001b[0m \u001b[31m1.5 MB/s\u001b[0m eta \u001b[36m0:00:00\u001b[0m\n",
            "\u001b[?25h"
          ]
        }
      ],
      "source": [
        "!pip install Flask==3.0.0 pyngrok==7.1.2 --quiet\n",
        "!pip install line-bot-sdk --quiet"
      ]
    },
    {
      "cell_type": "markdown",
      "metadata": {
        "id": "ZccB1DAfCrU2"
      },
      "source": [
        "### 讀取金鑰放入變數\n",
        "1. 在程式中**千萬不要**直接顯示金鑰或密碼，在Linux或Windows中設定在環境變數中\n",
        "2. 如果有安裝conda環境，放入conda的環境變數中\n",
        "3. 需要預先將金鑰存入Colab的鑰匙圈中\n",
        "4. 使用Colab提供的`userdata.get()`讀取金鑰\n",
        "\n",
        "### 指定ngrok使用的通訊埠\n",
        "1. 此處指定`5000`\n",
        "2. 在ngrok提供網址後，不需要指定port number，直接使用產生的網站就行"
      ]
    },
    {
      "cell_type": "code",
      "execution_count": null,
      "metadata": {
        "id": "LATudlyux3CK"
      },
      "outputs": [],
      "source": [
        "from google.colab import userdata\n",
        "\n",
        "ngrok_key = userdata.get('ngrok_key')\n",
        "line_access_token = userdata.get('line_access_token')\n",
        "line_secret = userdata.get('line_secret')\n",
        "port = 5000"
      ]
    },
    {
      "cell_type": "markdown",
      "metadata": {
        "id": "qkrrQocajIPB"
      },
      "source": [
        "### 引入`pyngrok`\n",
        "目前Colab已禁止使用命令列`ngrok`執行，必須套用`pyngrok`套件，並且取消`ngrok_flask`。"
      ]
    },
    {
      "cell_type": "code",
      "execution_count": null,
      "metadata": {
        "id": "gJDIOjJMyLA_"
      },
      "outputs": [],
      "source": [
        "from pyngrok import ngrok"
      ]
    },
    {
      "cell_type": "markdown",
      "metadata": {
        "id": "2Bq3LLx_jlZn"
      },
      "source": [
        "### 設定ngrok的access token並啟動獲得公網位址\n",
        "設定access token並且取得公網位址。此值必須放在Line的Webhook值中"
      ]
    },
    {
      "cell_type": "code",
      "execution_count": null,
      "metadata": {
        "colab": {
          "base_uri": "https://localhost:8080/",
          "height": 36
        },
        "id": "s9lqFiYkyQrl",
        "outputId": "05f92f08-1b5f-449d-e5ac-3bc96a5432e4"
      },
      "outputs": [
        {
          "name": "stdout",
          "output_type": "stream",
          "text": []
        },
        {
          "data": {
            "application/vnd.google.colaboratory.intrinsic+json": {
              "type": "string"
            },
            "text/plain": [
              "'https://0acc-34-82-18-214.ngrok-free.app'"
            ]
          },
          "execution_count": 4,
          "metadata": {},
          "output_type": "execute_result"
        }
      ],
      "source": [
        "ngrok.set_auth_token(ngrok_key)\n",
        "ngrok.connect(port).public_url"
      ]
    },
    {
      "cell_type": "code",
      "execution_count": null,
      "metadata": {
        "colab": {
          "base_uri": "https://localhost:8080/"
        },
        "id": "YiJjrgma9Bmg",
        "outputId": "8b201448-ae31-467a-d418-d205b416caba"
      },
      "outputs": [
        {
          "name": "stdout",
          "output_type": "stream",
          "text": [
            " * Serving Flask app '__main__'\n",
            " * Debug mode: off\n"
          ]
        },
        {
          "name": "stderr",
          "output_type": "stream",
          "text": [
            "INFO:werkzeug:\u001b[31m\u001b[1mWARNING: This is a development server. Do not use it in a production deployment. Use a production WSGI server instead.\u001b[0m\n",
            " * Running on http://127.0.0.1:5000\n",
            "INFO:werkzeug:\u001b[33mPress CTRL+C to quit\u001b[0m\n",
            "INFO:werkzeug:127.0.0.1 - - [25/Apr/2024 03:11:32] \"POST / HTTP/1.1\" 200 -\n"
          ]
        },
        {
          "name": "stdout",
          "output_type": "stream",
          "text": [
            "{\"destination\":\"U08e238379070624ecd3a6ba91e449e19\",\"events\":[]}\n",
            "{\"destination\":\"U08e238379070624ecd3a6ba91e449e19\",\"events\":[{\"type\":\"message\",\"message\":{\"type\":\"sticker\",\"id\":\"505301892705026261\",\"quoteToken\":\"7fFcEXV3GJj1E3Uyd7T1qMH-ivHfUNUPLU1oepIs7lCPGD0Z3V4izxAjWBdJZJpv4IMKqpYMZLC8O9PJACEEwPnfGLOcGEu7RhSXN7eo0XQtW-tPBM1uxGFpANph3DCtKvGtoPNvKCLQ9B0bvYkOkg\",\"stickerId\":\"15\",\"packageId\":\"1\",\"stickerResourceType\":\"STATIC\",\"keywords\":[\"silly\",\"Sticking out tongue\",\"No\",\"tease\",\"tongue\",\"moon\",\"Negative\"]},\"webhookEventId\":\"01HW9KSK3PK6RP7YHARAC59CZ0\",\"deliveryContext\":{\"isRedelivery\":false},\"timestamp\":1714014702204,\"source\":{\"type\":\"user\",\"userId\":\"Uc9d6d3d031222ca0e86cebfd151d295e\"},\"replyToken\":\"e7cd742ddab345bbb6fdb338874917b8\",\"mode\":\"active\"}]}\n"
          ]
        },
        {
          "name": "stderr",
          "output_type": "stream",
          "text": [
            "INFO:werkzeug:127.0.0.1 - - [25/Apr/2024 03:11:43] \"POST / HTTP/1.1\" 200 -\n"
          ]
        },
        {
          "name": "stdout",
          "output_type": "stream",
          "text": [
            "{\"destination\":\"U08e238379070624ecd3a6ba91e449e19\",\"events\":[{\"type\":\"message\",\"message\":{\"type\":\"text\",\"id\":\"505301900506956357\",\"quoteToken\":\"qR_C0faK8lAZmhJtPftpP_PZkN0AE5cW4d0blCBPAEIcko9iWkDizmvRyiUuBgQycm7GOImXd5LnlWRq_p17Pezn_QFFAgmPgwSEXf47SuW30z_gQG8RnImpADZoFGlzahkX5mdOYvKFBMv3KeG_ug\",\"text\":\"A \"},\"webhookEventId\":\"01HW9KSQCMN107EZK0S08WMS63\",\"deliveryContext\":{\"isRedelivery\":false},\"timestamp\":1714014706931,\"source\":{\"type\":\"user\",\"userId\":\"Uc9d6d3d031222ca0e86cebfd151d295e\"},\"replyToken\":\"948674651dbc472c9041c345bafe6925\",\"mode\":\"active\"}]}\n"
          ]
        },
        {
          "name": "stderr",
          "output_type": "stream",
          "text": [
            "INFO:werkzeug:127.0.0.1 - - [25/Apr/2024 03:11:47] \"POST / HTTP/1.1\" 200 -\n"
          ]
        },
        {
          "name": "stdout",
          "output_type": "stream",
          "text": [
            "{\"destination\":\"U08e238379070624ecd3a6ba91e449e19\",\"events\":[{\"type\":\"message\",\"message\":{\"type\":\"sticker\",\"id\":\"505304233126658289\",\"quoteToken\":\"nahFL7_tokLEEG2HPGFBSHGUquscHODjICFnkx0gazVZfvP-p1ilzYkE74hlOI8Apa5Rp10h3pqTHWM-bIVaJV_l9opglulzbdIRvTh1SKG-UTfKK2hIUc1OY5uAAkOf5WkluqZTOYpTKfsyyBytsQ\",\"stickerId\":\"16\",\"packageId\":\"1\",\"stickerResourceType\":\"STATIC\",\"keywords\":[\"Sad\",\"boohoo\",\"bawl\",\"Tears\",\"Sadness\",\"moon\",\"Sobbing\",\"Crying\",\"teary-eyed\",\"anguish\",\"sucks\",\"upset\"]},\"webhookEventId\":\"01HW9N450XJ0V11EV63CKAQMHJ\",\"deliveryContext\":{\"isRedelivery\":false},\"timestamp\":1714016097205,\"source\":{\"type\":\"user\",\"userId\":\"Uc9d6d3d031222ca0e86cebfd151d295e\"},\"replyToken\":\"5bc8b06056ac408186fea1800d78b551\",\"mode\":\"active\"}]}\n"
          ]
        },
        {
          "name": "stderr",
          "output_type": "stream",
          "text": [
            "INFO:werkzeug:127.0.0.1 - - [25/Apr/2024 03:34:57] \"POST / HTTP/1.1\" 200 -\n",
            "INFO:werkzeug:127.0.0.1 - - [25/Apr/2024 03:59:25] \"POST / HTTP/1.1\" 200 -\n"
          ]
        },
        {
          "name": "stdout",
          "output_type": "stream",
          "text": [
            "{\"destination\":\"U08e238379070624ecd3a6ba91e449e19\",\"events\":[]}\n"
          ]
        },
        {
          "name": "stderr",
          "output_type": "stream",
          "text": [
            "INFO:werkzeug:127.0.0.1 - - [25/Apr/2024 03:59:39] \"POST / HTTP/1.1\" 200 -\n"
          ]
        },
        {
          "name": "stdout",
          "output_type": "stream",
          "text": [
            "{\"destination\":\"U08e238379070624ecd3a6ba91e449e19\",\"events\":[]}\n"
          ]
        },
        {
          "name": "stderr",
          "output_type": "stream",
          "text": [
            "INFO:werkzeug:127.0.0.1 - - [25/Apr/2024 04:03:13] \"\u001b[31m\u001b[1mGET / HTTP/1.1\u001b[0m\" 405 -\n",
            "INFO:werkzeug:127.0.0.1 - - [25/Apr/2024 04:03:14] \"\u001b[33mGET /favicon.ico HTTP/1.1\u001b[0m\" 404 -\n",
            "INFO:werkzeug:127.0.0.1 - - [25/Apr/2024 04:03:20] \"\u001b[33mGET /POST HTTP/1.1\u001b[0m\" 404 -\n",
            "INFO:werkzeug:127.0.0.1 - - [25/Apr/2024 04:03:22] \"\u001b[33mGET /POST HTTP/1.1\u001b[0m\" 404 -\n",
            "INFO:werkzeug:127.0.0.1 - - [25/Apr/2024 04:03:35] \"\u001b[31m\u001b[1mGET / HTTP/1.1\u001b[0m\" 405 -\n",
            "ERROR:__main__:Exception on / [POST]\n",
            "Traceback (most recent call last):\n",
            "  File \"/usr/local/lib/python3.10/dist-packages/flask/app.py\", line 2529, in wsgi_app\n",
            "    response = self.full_dispatch_request()\n",
            "  File \"/usr/local/lib/python3.10/dist-packages/flask/app.py\", line 1825, in full_dispatch_request\n",
            "    rv = self.handle_user_exception(e)\n",
            "  File \"/usr/local/lib/python3.10/dist-packages/flask/app.py\", line 1823, in full_dispatch_request\n",
            "    rv = self.dispatch_request()\n",
            "  File \"/usr/local/lib/python3.10/dist-packages/flask/app.py\", line 1799, in dispatch_request\n",
            "    return self.ensure_sync(self.view_functions[rule.endpoint])(**view_args)\n",
            "  File \"<ipython-input-5-f3c3e7f5fe5a>\", line 34, in callback\n",
            "    signature = request.headers['X-Line-Signature']\n",
            "  File \"/usr/local/lib/python3.10/dist-packages/werkzeug/datastructures/headers.py\", line 493, in __getitem__\n",
            "    return self.environ[f\"HTTP_{key}\"]\n",
            "KeyError: 'HTTP_X_LINE_SIGNATURE'\n",
            "INFO:werkzeug:127.0.0.1 - - [25/Apr/2024 04:05:21] \"\u001b[35m\u001b[1mPOST / HTTP/1.1\u001b[0m\" 500 -\n"
          ]
        },
        {
          "name": "stdout",
          "output_type": "stream",
          "text": [
            "{\"destination\":\"U08e238379070624ecd3a6ba91e449e19\",\"events\":[{\"type\":\"message\",\"message\":{\"type\":\"sticker\",\"id\":\"505309945751929597\",\"quoteToken\":\"hCCvcySvTEZ5RrPCn8OTRg-9eCjV19MwnITL0HrnYLWFODFjD8IAGuUlDfBvoPuVX5YX8EHZrEfLKb2toCGGhSK4Fso1wlznjqMXcXed_208zcwEfviVlk0seg2ORh5nhS0B7kkOvvhhgwjTs_eycQ\",\"stickerId\":\"5\",\"packageId\":\"1\",\"stickerResourceType\":\"STATIC\",\"keywords\":[\"moon\",\"Lovely\",\"beauty\",\"Love\",\"Heart\",\"Love you\",\"pretty\",\"Happy\"]},\"webhookEventId\":\"01HW9RC2MYWH09FYET0VVY06WF\",\"deliveryContext\":{\"isRedelivery\":false},\"timestamp\":1714019502353,\"source\":{\"type\":\"user\",\"userId\":\"Uc9d6d3d031222ca0e86cebfd151d295e\"},\"replyToken\":\"525b0c63e2b84197bb6597db5cfb4961\",\"mode\":\"active\"}]}\n"
          ]
        },
        {
          "name": "stderr",
          "output_type": "stream",
          "text": [
            "INFO:werkzeug:127.0.0.1 - - [25/Apr/2024 04:31:43] \"POST / HTTP/1.1\" 200 -\n"
          ]
        }
      ],
      "source": [
        "from flask import Flask, request, abort\n",
        "\n",
        "from linebot.v3 import (\n",
        "    WebhookHandler\n",
        ")\n",
        "from linebot.v3.exceptions import (\n",
        "    InvalidSignatureError\n",
        ")\n",
        "from linebot.v3.messaging import (\n",
        "    Configuration,\n",
        "    ApiClient,\n",
        "    MessagingApi,\n",
        "    ReplyMessageRequest,\n",
        "    TextMessage,\n",
        "    StickerMessage,\n",
        "    LocationMessage\n",
        ")\n",
        "from linebot.v3.webhooks import (\n",
        "    MessageEvent,\n",
        "    TextMessageContent,\n",
        "    StickerMessageContent,\n",
        "    LocationMessageContent\n",
        ")\n",
        "\n",
        "app = Flask(__name__)\n",
        "\n",
        "configuration = Configuration(access_token=line_access_token)\n",
        "handler = WebhookHandler(line_secret)\n",
        "\n",
        "\n",
        "@app.route(\"/\", methods=['POST'])\n",
        "def callback():\n",
        "    # get X-Line-Signature header value\n",
        "    signature = request.headers['X-Line-Signature']\n",
        "\n",
        "    # get request body as text\n",
        "    body = request.get_data(as_text=True)\n",
        "    print(body)\n",
        "    app.logger.info(\"Request body: \" + body)\n",
        "\n",
        "    # handle webhook body\n",
        "    try:\n",
        "        handler.handle(body, signature)\n",
        "    except InvalidSignatureError:\n",
        "        app.logger.info(\"Invalid signature. Please check your channel access token/channel secret.\")\n",
        "        abort(400)\n",
        "\n",
        "    return 'OK'\n",
        "\n",
        "\n",
        "@handler.add(MessageEvent, message=TextMessageContent)\n",
        "def handle_message(event):\n",
        "    with ApiClient(configuration) as api_client:\n",
        "        line_bot_api = MessagingApi(api_client)\n",
        "        line_bot_api.reply_message_with_http_info(\n",
        "            ReplyMessageRequest(\n",
        "                reply_token=event.reply_token,\n",
        "                messages=[TextMessage(text=event.message.text),\n",
        "                     TextMessage(text=event.message.text)]\n",
        "            )\n",
        "        )\n",
        "\n",
        "@handler.add(MessageEvent, message=StickerMessageContent)\n",
        "def handle_sticker_message(event):\n",
        "    with ApiClient(configuration) as api_client:\n",
        "        line_bot_api = MessagingApi(api_client)\n",
        "        line_bot_api.reply_message(\n",
        "            ReplyMessageRequest(\n",
        "                reply_token=event.reply_token,\n",
        "                messages=[StickerMessage(\n",
        "                    package_id=event.message.package_id,\n",
        "                    sticker_id=event.message.sticker_id)\n",
        "                ]\n",
        "            )\n",
        "        )\n",
        "\n",
        "@handler.add(MessageEvent, message=LocationMessageContent)\n",
        "def handle_location_message(event):\n",
        "    with ApiClient(configuration) as api_client:\n",
        "        line_bot_api = MessagingApi(api_client)\n",
        "        line_bot_api.reply_message(\n",
        "            ReplyMessageRequest(\n",
        "                reply_token=event.reply_token,\n",
        "                messages=[LocationMessage(\n",
        "                    title='位置訊息',\n",
        "                    address=event.message.address,\n",
        "                    latitude=event.message.latitude,\n",
        "                    longitude=event.message.longitude\n",
        "                )]\n",
        "            )\n",
        "        )\n",
        "\n",
        "if __name__ == \"__main__\":\n",
        "    app.run(port=port)"
      ]
    },
    {
      "cell_type": "markdown",
      "metadata": {
        "id": "sD0GhgXDSAVc"
      },
      "source": []
    },
    {
      "cell_type": "markdown",
      "metadata": {
        "id": "nRvkyjyhj3qA"
      },
      "source": [
        "### 執行程式並利用ngrok回訪Colab為Webook\n"
      ]
    },
    {
      "cell_type": "code",
      "execution_count": null,
      "metadata": {
        "id": "pgVPYP9vt_sm"
      },
      "outputs": [],
      "source": [
        "# 載入flask\n",
        "from flask import Flask, request\n",
        "\n",
        "# 載入 LINE Message API 相關函式庫\n",
        "from linebot import LineBotApi, WebhookHandler\n",
        "from linebot.exceptions import InvalidSignatureError\n",
        "from linebot.models import MessageEvent, TextMessage, TextSendMessage\n",
        "\n",
        "# 載入 json 標準函式庫，處理回傳的資料格式\n",
        "import json\n",
        "\n",
        "# 設定app\n",
        "\n",
        "app = Flask(__name__)\n",
        "\n",
        "# 設定使用POST方法而非GET方法\n",
        "\n",
        "@app.route(\"/\", methods=['POST'])\n",
        "\n",
        "# 定義linebot函式，主要用於回應使用者訊息\n",
        "\n",
        "def linebot():\n",
        "\n",
        "    # 取得收到的訊息內容\n",
        "\n",
        "    body = request.get_data(as_text=True)\n",
        "    try:\n",
        "        # json 格式化訊息內容\n",
        "        json_data = json.loads(body)\n",
        "\n",
        "        # 輸入channel secret及access token\n",
        "        line_bot_api = LineBotApi(line_access_token)\n",
        "        handler = WebhookHandler(line_secret)\n",
        "\n",
        "        # 加入回傳的 headers\n",
        "        signature = request.headers['X-Line-Signature']\n",
        "\n",
        "        # 綁定訊息回傳的相關資訊\n",
        "        handler.handle(body, signature)\n",
        "\n",
        "        # 取得 LINE 收到的文字訊息\n",
        "        # msg = json_data['events'][0]['message']['text']\n",
        "        ## print(msg)\n",
        "\n",
        "        # 取得回傳訊息的 Token\n",
        "        ## tk = json_data['events'][0]['replyToken']\n",
        "\n",
        "        # 回傳訊息\n",
        "        ## line_bot_api.reply_message(tk,TextSendMessage(msg))\n",
        "\n",
        "        # 印出內容\n",
        "        ## json.dump(json_data)\n",
        "    except Exception as e:\n",
        "        # 如果發生錯誤，印出收到的內容\n",
        "        print(repr(e))\n",
        "        json.dump(json_data)\n",
        "\n",
        "    # 驗證 Webhook 使用，不能省略\n",
        "    return 'OK'\n",
        "\n",
        "if __name__ == \"__main__\":\n",
        "  app.run(port=port)"
      ]
    },
    {
      "cell_type": "markdown",
      "metadata": {
        "id": "sCkHMW-5u8M1"
      },
      "source": [
        "### 回傳使用者傳來的貼圖\n",
        "1. 重新啟動ngrok獲得新的Webhook\n",
        "2. 取得貼圖的Package id及Sticker id，然後回傳"
      ]
    },
    {
      "cell_type": "code",
      "execution_count": null,
      "metadata": {
        "id": "3As8KZgHvLHg"
      },
      "outputs": [],
      "source": [
        "ngrok.connect(port).public_url"
      ]
    },
    {
      "cell_type": "code",
      "execution_count": null,
      "metadata": {
        "id": "PwJkgOPQxho0"
      },
      "outputs": [],
      "source": [
        "from flask import Flask, request\n",
        "from linebot import LineBotApi, WebhookHandler\n",
        "\n",
        "# 載入 StickerSendMessage 模組\n",
        "from linebot.models import StickerSendMessage\n",
        "import json\n",
        "\n",
        "app = Flask(__name__)\n",
        "\n",
        "@app.route(\"/\", methods=['POST'])\n",
        "def linebot():\n",
        "    body = request.get_data(as_text=True)\n",
        "    json_data = json.loads(body)\n",
        "    print(json_data)\n",
        "    try:\n",
        "        line_bot_api = LineBotApi(line_access_token)\n",
        "        handler = WebhookHandler(line_secret)\n",
        "        signature = request.headers['X-Line-Signature']\n",
        "\n",
        "        handler.handle(body, signature)\n",
        "\n",
        "        tk = json_data['events'][0]['replyToken']\n",
        "\n",
        "        # 取得 stickerId\n",
        "        stickerId = json_data['events'][0]['message']['stickerId']\n",
        "\n",
        "        # 取得 packageId\n",
        "        packageId = json_data['events'][0]['message']['packageId']\n",
        "\n",
        "        # 設定要回傳的表情貼圖\n",
        "        sticker_message = StickerSendMessage(sticker_id=stickerId, package_id=packageId)\n",
        "\n",
        "        # 回傳貼圖\n",
        "        line_bot_api.reply_message(tk,sticker_message)\n",
        "        json.dump(json_data)\n",
        "    except:\n",
        "        print(body)\n",
        "    return 'OK'\n",
        "\n",
        "if __name__ == \"__main__\":\n",
        "    app.run(port=port)"
      ]
    },
    {
      "cell_type": "markdown",
      "metadata": {
        "id": "rG3zjx2BXqEb"
      },
      "source": [
        "### 回覆影像及影片\n",
        "1. 重新啟動ngrok獲得Webhook\n",
        "2. 建立一個`reply_img()`函數，去尋找網頁上是否有這個圖(來自`url`)\n"
      ]
    },
    {
      "cell_type": "code",
      "execution_count": null,
      "metadata": {
        "id": "ymcri01OYyYC"
      },
      "outputs": [],
      "source": [
        "ngrok.connect(port).public_url"
      ]
    },
    {
      "cell_type": "code",
      "execution_count": null,
      "metadata": {
        "id": "sHteBcDlXwiB"
      },
      "outputs": [],
      "source": [
        "from flask import Flask, request\n",
        "from linebot import LineBotApi, WebhookHandler\n",
        "\n",
        "# 載入 ImageSendMessage 模組\n",
        "from linebot.models import TextSendMessage, ImageSendMessage\n",
        "import json\n",
        "\n",
        "app = Flask(__name__)\n",
        "\n",
        "@app.route(\"/\", methods=['POST'])\n",
        "\n",
        "def linebot():\n",
        "    body = request.get_data(as_text=True)\n",
        "    json_data = json.loads(body)\n",
        "    print(json_data)\n",
        "    try:\n",
        "        line_bot_api = LineBotApi(line_access_token)\n",
        "        handler = WebhookHandler(line_secret)\n",
        "        signature = request.headers['X-Line-Signature']\n",
        "\n",
        "        handler.handle(body, signature)\n",
        "\n",
        "        tk = json_data['events'][0]['replyToken']\n",
        "        msg = json_data['events'][0]['message']['text']\n",
        "\n",
        "        # 取得對應的圖片，如果沒有取得，會是 False\n",
        "        img_url = reply_img(msg)\n",
        "        if img_url:\n",
        "            # 如果有圖片網址，回傳圖片\n",
        "            img_message = ImageSendMessage(original_content_url=img_url, preview_image_url=img_url)\n",
        "            line_bot_api.reply_message(tk,img_message)\n",
        "        else:\n",
        "            # 如果是 False，回傳文字\n",
        "            text_message = TextSendMessage(text='找不到圖片')\n",
        "            line_bot_api.reply_message(tk,text_message)\n",
        "        # 印出訊息本體\n",
        "        json.dump(json_data)\n",
        "    except:\n",
        "        print(body)\n",
        "    return 'OK'\n",
        "# 建立回覆圖片的函式\n",
        "def reply_img(text):\n",
        "    # 文字對應圖片網址的字典\n",
        "    img = {\n",
        "        '皮卡丘':'https://upload.wikimedia.org/wikipedia/en/a/a6/Pok%C3%A9mon_Pikachu_art.png',\n",
        "        '傑尼龜':'https://upload.wikimedia.org/wikipedia/en/5/59/Pok%C3%A9mon_Squirtle_art.png',\n",
        "        '東吳': 'https://www-ch.scu.edu.tw/assets/images/logo_scu_all.png'\n",
        "    }\n",
        "    if text in img:\n",
        "      return img[text]\n",
        "    else:\n",
        "      # 如果找不到對應的圖片，回傳 False\n",
        "      return False\n",
        "\n",
        "if __name__ == \"__main__\":\n",
        "    app.run(port=port)"
      ]
    },
    {
      "cell_type": "markdown",
      "metadata": {
        "id": "Lcz51SWobuR7"
      },
      "source": [
        "### 傳送位置資訊\n"
      ]
    },
    {
      "cell_type": "code",
      "execution_count": null,
      "metadata": {
        "id": "im4tMS3fbxOW"
      },
      "outputs": [],
      "source": [
        "ngrok.connect(port).public_url"
      ]
    },
    {
      "cell_type": "code",
      "execution_count": null,
      "metadata": {
        "id": "CtxDkXrzcBQG"
      },
      "outputs": [],
      "source": [
        "from flask import Flask, request\n",
        "from linebot import LineBotApi, WebhookHandler\n",
        "\n",
        "# 載入 LocationSendMessage 模組\n",
        "from linebot.models import TextSendMessage, LocationSendMessage\n",
        "import json\n",
        "\n",
        "app = Flask(__name__)\n",
        "\n",
        "@app.route(\"/\", methods=['POST'])\n",
        "\n",
        "def linebot():\n",
        "    body = request.get_data(as_text=True)\n",
        "    json_data = json.loads(body)\n",
        "    print(json_data)\n",
        "    try:\n",
        "        line_bot_api = LineBotApi(line_access_token)\n",
        "        handler = WebhookHandler(line_secret)\n",
        "        signature = request.headers['X-Line-Signature']\n",
        "\n",
        "        handler.handle(body, signature)\n",
        "\n",
        "        tk = json_data['events'][0]['replyToken']\n",
        "        msg = json_data['events'][0]['message']['text']\n",
        "        location_dect = reply_location(msg)\n",
        "\n",
        "        # 取得對應的地址，如果沒有取得，會是 False\n",
        "        if location_dect:\n",
        "            # 如果有地點資訊，回傳地點\n",
        "            location_message = LocationSendMessage(title=location_dect['title'],\n",
        "                                  address=location_dect['address'],\n",
        "                                  latitude=location_dect['latitude'],\n",
        "                                  longitude=location_dect['longitude'])\n",
        "            line_bot_api.reply_message(tk,location_message)\n",
        "        else:\n",
        "            # 如果是 False，回傳文字\n",
        "            text_message = TextSendMessage(text='找不到相關地點')\n",
        "            line_bot_api.reply_message(tk,text_message)\n",
        "        json.dump(json_data)\n",
        "    except:\n",
        "        print(body)\n",
        "    return 'OK'\n",
        "# 建立回覆地點的函式\n",
        "def reply_location(text):\n",
        "    # 建立地點與文字對應的字典\n",
        "    location = {\n",
        "        '101':{\n",
        "            'title':'台北 101',\n",
        "            'address':'110台北市信義區信義路五段7號',\n",
        "            'latitude':'25.034095712145003',\n",
        "            'longitude':'121.56489941996108'\n",
        "        },\n",
        "        '東吳':{\n",
        "            'title':'東吳大學校本部',\n",
        "            'address':'111台北市士林區臨溪路70號',\n",
        "            'latitude':'25.0945684',\n",
        "            'longitude':'121.5428445'\n",
        "        },\n",
        "        '總統府':{\n",
        "            'title':'總統府',\n",
        "            'address':'100台北市中正區重慶南路一段122號',\n",
        "            'latitude':'25.040319874750914',\n",
        "            'longitude':'121.51162883484746'\n",
        "        }\n",
        "    }\n",
        "    if text in location:\n",
        "      return location[text]\n",
        "    else:\n",
        "      # 如果找不到對應的地點，回傳 False\n",
        "      return False\n",
        "\n",
        "if __name__ == \"__main__\":\n",
        "    app.run(port=port)"
      ]
    },
    {
      "cell_type": "markdown",
      "metadata": {
        "id": "RYgZAF5mxse8"
      },
      "source": [
        "### 綜合以上所有功能"
      ]
    },
    {
      "cell_type": "code",
      "execution_count": null,
      "metadata": {
        "id": "50AnOttezZqx"
      },
      "outputs": [],
      "source": [
        "ngrok.connect(port).public_url"
      ]
    },
    {
      "cell_type": "code",
      "execution_count": null,
      "metadata": {
        "id": "0p0xaXVSxwBE"
      },
      "outputs": [],
      "source": [
        "from flask import Flask, request\n",
        "from linebot import LineBotApi, WebhookHandler\n",
        "\n",
        "# 載入 LocationSendMessage 模組\n",
        "from linebot.models import TextSendMessage, LocationSendMessage\n",
        "import json\n",
        "\n",
        "app = Flask(__name__)\n",
        "\n",
        "@app.route(\"/\", methods=['POST'])\n",
        "\n",
        "def linebot():\n",
        "    body = request.get_data(as_text=True)\n",
        "    json_data = json.loads(body)\n",
        "    print(json_data)\n",
        "    try:\n",
        "        # access token\n",
        "        # secret\n",
        "\n",
        "        line_bot_api = LineBotApi('line_access_token')\n",
        "        handler = WebhookHandler('line_secret')\n",
        "        signature = request.headers['X-Line-Signature']\n",
        "        handler.handle(body, signature)\n",
        "\n",
        "        # 取得 reply token\n",
        "        tk = json_data['events'][0]['replyToken']\n",
        "\n",
        "        # 取得 message 的類型\n",
        "        tp = json_data['events'][0]['message']['type']\n",
        "        print(\"!!!!\", tp)\n",
        "        if tp == 'text':\n",
        "\n",
        "            # 如果是文字類型的訊息\n",
        "            # 取出文字並對應到 reply_msg 的函式\n",
        "            msg = reply_msg(json_data['events'][0]['message']['text'])\n",
        "            if msg[0] == 'text':\n",
        "                # 如果要回傳的訊息是 text，使用 TextSendMessage 方法\n",
        "                line_bot_api.reply_message(tk,TextSendMessage(text=msg[1]))\n",
        "            if msg[0] == 'location':\n",
        "                # 如果要回傳的訊息是 location，使用 LocationSendMessage 方法\n",
        "                line_bot_api.reply_message(tk,LocationSendMessage(title=msg[1]['title'],\n",
        "                                                address=msg[1]['address'],\n",
        "                                                latitude=msg[1]['latitude'],\n",
        "                                                longitude=msg[1]['longitude']))\n",
        "            if msg[0] == 'image':\n",
        "                # 如果要回傳的訊息是 image，使用 ImageSendMessage 方法\n",
        "                line_bot_api.reply_message(tk,ImageSendMessage(original_content_url=msg[1],\n",
        "                                                    preview_image_url=msg[1]))\n",
        "        if tp == 'sticker':\n",
        "            # 如果收到的訊息是表情貼圖\n",
        "            stickerId = json_data['events'][0]['message']['stickerId'] # 取得 stickerId\n",
        "            packageId = json_data['events'][0]['message']['packageId'] # 取得 packageId\n",
        "\n",
        "            # 使用 StickerSendMessage 方法回傳同樣的表情貼圖\n",
        "            line_bot_api.reply_message(tk,StickerSendMessage(sticker_id=stickerId, package_id=packageId))\n",
        "        if tp == 'location':\n",
        "\n",
        "            # 如果是收到的訊息是地點資訊\n",
        "            line_bot_api.reply_message(tk,TextSendMessage(text='地點'))\n",
        "        if tp == 'image':\n",
        "\n",
        "            # 如果是收到的訊息是圖片\n",
        "            line_bot_api.reply_message(tk,TextSendMessage(text='圖片'))\n",
        "        if tp == 'audio':\n",
        "\n",
        "            # 如果是收到的訊息是聲音\n",
        "            line_bot_api.reply_message(tk,TextSendMessage(text='聲音'))\n",
        "        if tp == 'video':\n",
        "            # 如果是收到的訊息是影片\n",
        "            line_bot_api.reply_message(tk,TextSendMessage(text='影片'))\n",
        "    except:\n",
        "        print('error', body)\n",
        "    return 'OK'\n",
        "# 定義回覆訊息的函式\n",
        "def reply_msg(text):\n",
        "    # 客製化回覆文字\n",
        "    msg_dict = {\n",
        "        'hi':'Hi! 你好',\n",
        "        'hello':'Hello World!',\n",
        "        '你好':'你好',\n",
        "        'help':'有什麼要幫忙的嗎？'\n",
        "    }\n",
        "    # 如果出現特定地點，提供地點資訊\n",
        "    local_dict = {\n",
        "        '東吳大學':{\n",
        "            'title':'東吳大學校本部',\n",
        "            'address':'111台北市士林區臨溪路70號',\n",
        "            'latitude':'25.0945684',\n",
        "            'longitude':'121.5428445'\n",
        "        }\n",
        "    }\n",
        "    # 如果出現特定圖片文字，提供圖片網址\n",
        "    img_dict = {\n",
        "        '東吳': 'https://www-ch.scu.edu.tw/assets/images/logo_scu_all.png',\n",
        "        '皮卡丘':'https://upload.wikimedia.org/wikipedia/en/a/a6/Pok%C3%A9mon_Pikachu_art.png',\n",
        "        '傑尼龜':'https://upload.wikimedia.org/wikipedia/en/5/59/Pok%C3%A9mon_Squirtle_art.png'\n",
        "    }\n",
        "    # 預設回覆的文字就是收到的訊息\n",
        "    reply_msg_content = ['text',text]\n",
        "    if text in msg_dict:\n",
        "        reply_msg_content = ['text',msg_dict[text.lower()]]\n",
        "    if text in local_dict:\n",
        "        reply_msg_content = ['location',local_dict[text.lower()]]\n",
        "    if text in img_dict:\n",
        "        reply_msg_content = ['image',img_dict[text.lower()]]\n",
        "    return reply_msg_content\n",
        "\n",
        "if __name__ == \"__main__\":\n",
        "    app.run(port=port)"
      ]
    },
    {
      "cell_type": "code",
      "execution_count": null,
      "metadata": {
        "id": "u9Dg7mv-_oXY"
      },
      "outputs": [],
      "source": [
        "# from flask import Flask\n",
        "\n",
        "# app = Flask(__name__)\n",
        "\n",
        "# @app.route(\"/<name>\")\n",
        "# def hello(name):\n",
        "#     return f\"<h1>Hello {name}</h1>\"\n",
        "\n",
        "# if __name__ == '__main__':\n",
        "#     app.run(port = port)"
      ]
    }
  ],
  "metadata": {
    "colab": {
      "provenance": []
    },
    "kernelspec": {
      "display_name": "Python 3",
      "name": "python3"
    },
    "language_info": {
      "name": "python"
    }
  },
  "nbformat": 4,
  "nbformat_minor": 0
}
