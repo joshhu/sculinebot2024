{
 "cells": [
  {
   "cell_type": "code",
   "execution_count": null,
   "metadata": {},
   "outputs": [],
   "source": [
    "# from google.colab import userdata\n",
    "\n",
    "# ngrok_key = userdata.get('ngrok_key')\n",
    "# line_access_token = userdata.get('line_access_token')\n",
    "# line_secret = userdata.get('line_secret')\n",
    "# port = 5000"
   ]
  },
  {
   "cell_type": "code",
   "execution_count": 1,
   "metadata": {},
   "outputs": [],
   "source": [
    "import os\n",
    "\n",
    "line_access_token = os.environ.get('LINE_ACCESS_TOKEN')\n",
    "line_secret = os.environ.get('LINE_SECRET')\n",
    "open_api_key = os.environ.get('OPENAI_API_KEY')\n",
    "port = 5000"
   ]
  },
  {
   "cell_type": "code",
   "execution_count": 2,
   "metadata": {},
   "outputs": [],
   "source": [
    "from openai import OpenAI\n",
    "\n",
    "client = OpenAI(api_key=open_api_key)\n",
    "def get_completion(prompt):\n",
    "    messages = [{\"role\": \"user\", \"content\": prompt}]\n",
    "    response = client.chat.completions.create(\n",
    "        model=\"gpt-3.5-turbo\",\n",
    "        messages=messages,\n",
    "        temperature=0,\n",
    "        max_tokens=256\n",
    "        \n",
    "    )\n",
    "    return response.choices[0].message.content"
   ]
  },
  {
   "cell_type": "code",
   "execution_count": 3,
   "metadata": {},
   "outputs": [
    {
     "name": "stdout",
     "output_type": "stream",
     "text": [
      "東吳大學是一所位於台灣台北市的知名私立大學，創立於1928年，是台灣歷史最悠久的大學之一。學校以培養人文素養和社會責任感為宗旨，致力於提供高品質的教育和研究環境。\n",
      "\n",
      "東吳大學擁有豐富的學術資源和優秀的師資隊伍，提供多元化的學術課程和研究領域，包括文學、法律、商學、理學、社會科學等。學校注重學生的全面發展，鼓勵學生參與社會服務和實習活動，培養\n"
     ]
    }
   ],
   "source": [
    "print(get_completion(\"簡介東吳大學\"))"
   ]
  },
  {
   "cell_type": "code",
   "execution_count": 4,
   "metadata": {},
   "outputs": [],
   "source": [
    "messages = []"
   ]
  },
  {
   "cell_type": "code",
   "execution_count": 6,
   "metadata": {},
   "outputs": [
    {
     "name": "stdout",
     "output_type": "stream",
     "text": [
      " * Serving Flask app '__main__'\n",
      " * Debug mode: off\n"
     ]
    },
    {
     "name": "stderr",
     "output_type": "stream",
     "text": [
      "\u001b[31m\u001b[1mWARNING: This is a development server. Do not use it in a production deployment. Use a production WSGI server instead.\u001b[0m\n",
      " * Running on http://127.0.0.1:5000\n",
      "\u001b[33mPress CTRL+C to quit\u001b[0m\n"
     ]
    },
    {
     "name": "stdout",
     "output_type": "stream",
     "text": [
      "BODY:  {\"destination\":\"U08e238379070624ecd3a6ba91e449e19\",\"events\":[{\"type\":\"message\",\"message\":{\"type\":\"text\",\"id\":\"507999191675699233\",\"quoteToken\":\"pWH61d8rKo_hwi8lLhdfA0Ii3h9mzWMSsaigIuzTD4z2WQpFC7oRLjymIGhQ8ioRUymks9ToRjrNfJt14USvgSDgTGidTbcdhiZYFXrHQHA4LTs3mAsqoURT2CGqsNHhKxF8REuSH-hGL3FIdNiRIw\",\"text\":\"你好\"},\"webhookEventId\":\"01HXSH15R40WMR32ENY9JTHJMG\",\"deliveryContext\":{\"isRedelivery\":false},\"timestamp\":1715622417672,\"source\":{\"type\":\"user\",\"userId\":\"Uc9d6d3d031222ca0e86cebfd151d295e\"},\"replyToken\":\"8ec6252adae149ee9fdea2738a2559d5\",\"mode\":\"active\"}]}\n"
     ]
    },
    {
     "name": "stderr",
     "output_type": "stream",
     "text": [
      "127.0.0.1 - - [14/May/2024 01:46:56] \"POST / HTTP/1.1\" 200 -\n"
     ]
    },
    {
     "name": "stdout",
     "output_type": "stream",
     "text": [
      "BODY:  {\"destination\":\"U08e238379070624ecd3a6ba91e449e19\",\"events\":[{\"type\":\"message\",\"message\":{\"type\":\"text\",\"id\":\"507999207429505205\",\"quoteToken\":\"-Cs-gszBCSeNGpqZXceT3T_HN3qxXntvywQcjvHH7adTOw3Wg2vJmSPREzyfOLRKOaex3sdL5b9xhJnktMTsKKW7oYpww9-WulwXksJs_-AQGfIAftxxFPHjh2knUOgr4Q-C1rAnO4OaSnPbUdYLWA\",\"text\":\"AI 簡介一下東吳大學\"},\"webhookEventId\":\"01HXSH1EVFZV24FBTX5KFEDSZW\",\"deliveryContext\":{\"isRedelivery\":false},\"timestamp\":1715622427064,\"source\":{\"type\":\"user\",\"userId\":\"Uc9d6d3d031222ca0e86cebfd151d295e\"},\"replyToken\":\"214f6988f0b54af28aca8db966720ca9\",\"mode\":\"active\"}]}\n"
     ]
    },
    {
     "name": "stderr",
     "output_type": "stream",
     "text": [
      "127.0.0.1 - - [14/May/2024 01:47:08] \"POST / HTTP/1.1\" 200 -\n",
      "127.0.0.1 - - [14/May/2024 01:47:16] \"POST / HTTP/1.1\" 200 -\n"
     ]
    },
    {
     "name": "stdout",
     "output_type": "stream",
     "text": [
      "BODY:  {\"destination\":\"U08e238379070624ecd3a6ba91e449e19\",\"events\":[{\"type\":\"message\",\"message\":{\"type\":\"text\",\"id\":\"507999226521714914\",\"quoteToken\":\"bvkFQzBGEveAGIil7CJz19OLy-mHgxDjGwxwNrhhw4OzPEerjPdgMq-ZTK7n16Uce_t63bnqV1vhhHKAIdwVezUL7mMGDS9IPz4HSeZ06RpwVa3TjBQH1bWYeVeJYS7MBNjvds06Vx4pTybw6Y-Cxg\",\"text\":\"那城區部呢？\"},\"webhookEventId\":\"01HXSH1T390QY2PT900S0W0N7R\",\"deliveryContext\":{\"isRedelivery\":false},\"timestamp\":1715622438510,\"source\":{\"type\":\"user\",\"userId\":\"Uc9d6d3d031222ca0e86cebfd151d295e\"},\"replyToken\":\"9fe3aa34f44a4acd8b6a70c9efedb8bb\",\"mode\":\"active\"}]}\n",
      "BODY:  {\"destination\":\"U08e238379070624ecd3a6ba91e449e19\",\"events\":[{\"type\":\"message\",\"message\":{\"type\":\"text\",\"id\":\"507999238651904081\",\"quoteToken\":\"652vA-ChTBQzmMUCkVGb_TpcH8ltp3dqUlEDdmWyqYY5hiNiw-nrHDLt8tvHU0JrU9aclJX-Rvj8GvksW68hPTqmh2j7QcFA63tZ58rhxTuyPZ0ZBPz-GTtw8MzECs4d1CbTGQOhYwNJVT4leMel3g\",\"text\":\"AI 那城區部呢？\"},\"webhookEventId\":\"01HXSH2133XC4RHJJ1SWY7TCW7\",\"deliveryContext\":{\"isRedelivery\":false},\"timestamp\":1715622445671,\"source\":{\"type\":\"user\",\"userId\":\"Uc9d6d3d031222ca0e86cebfd151d295e\"},\"replyToken\":\"595231abc18b49aa994141426264ed09\",\"mode\":\"active\"}]}\n"
     ]
    },
    {
     "name": "stderr",
     "output_type": "stream",
     "text": [
      "127.0.0.1 - - [14/May/2024 01:47:29] \"POST / HTTP/1.1\" 200 -\n"
     ]
    },
    {
     "name": "stdout",
     "output_type": "stream",
     "text": [
      "BODY:  {\"destination\":\"U08e238379070624ecd3a6ba91e449e19\",\"events\":[{\"type\":\"message\",\"message\":{\"type\":\"text\",\"id\":\"507999265998766197\",\"quoteToken\":\"EtQ0gAYzIhR4bHqxqs4-BC-U-V0VR1wjf7Q9Wp2o0sURBKVviuq1B8aF8rgIlr4Q7SHQrPwky1KMqkK4G2sDeq8wRJvqFt53ciqIslmu_pTznYLzsAXbt3zp5loDmWCrtvvtniNLemS4rVEg0KDUXA\",\"text\":\"AI 地址是什麼？\"},\"webhookEventId\":\"01HXSH2H0GF3FB7XQYV9C21E9N\",\"deliveryContext\":{\"isRedelivery\":false},\"timestamp\":1715622461972,\"source\":{\"type\":\"user\",\"userId\":\"Uc9d6d3d031222ca0e86cebfd151d295e\"},\"replyToken\":\"e35f9a7bcad04ba5862ce1136a4df405\",\"mode\":\"active\"}]}\n"
     ]
    },
    {
     "name": "stderr",
     "output_type": "stream",
     "text": [
      "127.0.0.1 - - [14/May/2024 01:47:46] \"POST / HTTP/1.1\" 200 -\n"
     ]
    },
    {
     "name": "stdout",
     "output_type": "stream",
     "text": [
      "BODY:  {\"destination\":\"U08e238379070624ecd3a6ba91e449e19\",\"events\":[{\"type\":\"message\",\"message\":{\"type\":\"text\",\"id\":\"507999297070170321\",\"quoteToken\":\"_MKFgjlYlWOM_6923e0WMndAJU-SXds7lGn3ItZfQOusPPyeM_09WR270PG3OUr-AArLNttN7g7Vxo4OtDMr3SoiLXq8q0vNHSmPhzBc9HL0ePbE8H_1hAXy1qaMxz_r6zc-KBq1MtjeL9VJaXeTGw\",\"text\":\"AI 城區部的地址？\"},\"webhookEventId\":\"01HXSH3336WC71QQHGJN65QGE3\",\"deliveryContext\":{\"isRedelivery\":false},\"timestamp\":1715622480491,\"source\":{\"type\":\"user\",\"userId\":\"Uc9d6d3d031222ca0e86cebfd151d295e\"},\"replyToken\":\"4ff6b50b02624970806a8f879ec4ecce\",\"mode\":\"active\"}]}\n"
     ]
    },
    {
     "name": "stderr",
     "output_type": "stream",
     "text": [
      "127.0.0.1 - - [14/May/2024 01:48:01] \"POST / HTTP/1.1\" 200 -\n"
     ]
    },
    {
     "name": "stdout",
     "output_type": "stream",
     "text": [
      "BODY:  {\"destination\":\"U08e238379070624ecd3a6ba91e449e19\",\"events\":[{\"type\":\"message\",\"message\":{\"type\":\"text\",\"id\":\"507999338778329298\",\"quoteToken\":\"9EL7wza1gWIoymeSzSonUOqUqq5FZ8AJJr93IZMyer002v9BdPosygyVy3eLEbscCstKtd-oZiBvrfyXjQESSwUVyxVERsKgttLJsuOmx0ICxEy1HDGT_VZH4asMyV4KwVrbhYdzcEFImyeUdjvTFg\",\"text\":\"AI 東吳大學城區部的地址呢？\"},\"webhookEventId\":\"01HXSH3VE9VF7AM1SPP5VXR7S2\",\"deliveryContext\":{\"isRedelivery\":false},\"timestamp\":1715622505522,\"source\":{\"type\":\"user\",\"userId\":\"Uc9d6d3d031222ca0e86cebfd151d295e\"},\"replyToken\":\"04e92fbec12b412eafab21988342290a\",\"mode\":\"active\"}]}\n"
     ]
    },
    {
     "name": "stderr",
     "output_type": "stream",
     "text": [
      "127.0.0.1 - - [14/May/2024 01:48:31] \"POST / HTTP/1.1\" 200 -\n"
     ]
    },
    {
     "name": "stdout",
     "output_type": "stream",
     "text": [
      "BODY:  {\"destination\":\"U08e238379070624ecd3a6ba91e449e19\",\"events\":[{\"type\":\"message\",\"message\":{\"type\":\"text\",\"id\":\"507999376308961553\",\"quoteToken\":\"jyeBfD7mKKKez0oLMW7G96Z3UeL3J1wSxCWOsePhaWLzH9eEpNv2pRg3u2yxEdgPCeXvJ54B3qYnxcglJ5JFLuccnV5DS45IKheZWm_FDMe3iUQPKQDSxtS7_llinILf6-Mn7F8hTbNCaiJ3A4OTgA\",\"text\":\"AI 錯了，這是校本部，我是問城區部\"},\"webhookEventId\":\"01HXSH4H79W7R66Z1N5AZMHVMX\",\"deliveryContext\":{\"isRedelivery\":false},\"timestamp\":1715622527726,\"source\":{\"type\":\"user\",\"userId\":\"Uc9d6d3d031222ca0e86cebfd151d295e\"},\"replyToken\":\"49e920df60404e6689d7cd684899028b\",\"mode\":\"active\"}]}\n"
     ]
    },
    {
     "name": "stderr",
     "output_type": "stream",
     "text": [
      "127.0.0.1 - - [14/May/2024 01:48:47] \"POST / HTTP/1.1\" 200 -\n"
     ]
    },
    {
     "name": "stdout",
     "output_type": "stream",
     "text": [
      "BODY:  {\"destination\":\"U08e238379070624ecd3a6ba91e449e19\",\"events\":[{\"type\":\"message\",\"message\":{\"type\":\"text\",\"id\":\"507999407078375617\",\"quoteToken\":\"AsuQHVJJRLeEMXupIIw3p_Ko1bt_PLTYtbbl84_2kIGDfD20t9OWgSlL8dxKjcsAiR30EinfIYpBCPEcDf6O5kG2kquq5SS6jFFLKisbpUaGR-SAgdgJ8DAur8u4sQjjhfVZmTworTp5ujZs9GOJKQ\",\"text\":\"AI 你還沒回答城區部的地址\"},\"webhookEventId\":\"01HXSH5349EEGGYCFNEVJ3XZ4S\",\"deliveryContext\":{\"isRedelivery\":false},\"timestamp\":1715622546063,\"source\":{\"type\":\"user\",\"userId\":\"Uc9d6d3d031222ca0e86cebfd151d295e\"},\"replyToken\":\"b1272fbdee624523b50fe95daa12c306\",\"mode\":\"active\"}]}\n"
     ]
    },
    {
     "name": "stderr",
     "output_type": "stream",
     "text": [
      "127.0.0.1 - - [14/May/2024 01:49:08] \"POST / HTTP/1.1\" 200 -\n"
     ]
    },
    {
     "name": "stdout",
     "output_type": "stream",
     "text": [
      "BODY:  {\"destination\":\"U08e238379070624ecd3a6ba91e449e19\",\"events\":[{\"type\":\"message\",\"message\":{\"type\":\"text\",\"id\":\"507999433938698385\",\"quoteToken\":\"71eY4gxBs_-qHSbkZ9rgEHFdn3SsRc69xI7YXx_DBsfWJd0zY6BMdCaMjNlKGoTRtMF7Co4mJjDxnJOxMkTx1Z94lpcocs-5DynJe2uF5JXQO_PAPHYv_TlcXsHXIbrMT0DKBq1Gxyojh8fgk1dCXA\",\"text\":\"AI 還是不對\"},\"webhookEventId\":\"01HXSH5JRM1P9FM77ZTP4P1BMQ\",\"deliveryContext\":{\"isRedelivery\":false},\"timestamp\":1715622562073,\"source\":{\"type\":\"user\",\"userId\":\"Uc9d6d3d031222ca0e86cebfd151d295e\"},\"replyToken\":\"a28c141c028a4cff9aeee5144434505b\",\"mode\":\"active\"}]}\n"
     ]
    },
    {
     "name": "stderr",
     "output_type": "stream",
     "text": [
      "127.0.0.1 - - [14/May/2024 01:49:24] \"POST / HTTP/1.1\" 200 -\n"
     ]
    }
   ],
   "source": [
    "from flask import Flask, request, abort\n",
    "\n",
    "from linebot.v3 import (\n",
    "    WebhookHandler\n",
    ")\n",
    "from linebot.v3.exceptions import (\n",
    "    InvalidSignatureError\n",
    ")\n",
    "from linebot.v3.messaging import (\n",
    "    Configuration,\n",
    "    ApiClient,\n",
    "    MessagingApi,\n",
    "    ReplyMessageRequest,\n",
    "    TextMessage,\n",
    "    StickerMessage,\n",
    "    LocationMessage\n",
    ")\n",
    "from linebot.v3.webhooks import (\n",
    "    MessageEvent,\n",
    "    TextMessageContent,\n",
    "    StickerMessageContent,\n",
    "    LocationMessageContent\n",
    ")\n",
    "\n",
    "app = Flask(__name__)\n",
    "\n",
    "configuration = Configuration(access_token=line_access_token)\n",
    "handler = WebhookHandler(line_secret)\n",
    "\n",
    "\n",
    "@app.route(\"/\", methods=['POST'])\n",
    "def callback():\n",
    "    # get X-Line-Signature header value\n",
    "    signature = request.headers['X-Line-Signature']\n",
    "\n",
    "    # get request body as text\n",
    "    body = request.get_data(as_text=True)\n",
    "    print(\"BODY: \", body)\n",
    "    app.logger.info(\"Request body: \" + body)\n",
    "\n",
    "    # handle webhook body\n",
    "    try:\n",
    "        handler.handle(body, signature)\n",
    "    except InvalidSignatureError:\n",
    "        app.logger.info(\"Invalid signature. Please check your channel access token/channel secret.\")\n",
    "        abort(400)\n",
    "\n",
    "    return 'OK'\n",
    "\n",
    "\n",
    "@handler.add(MessageEvent, message=TextMessageContent)\n",
    "def handle_message(event):\n",
    "    text = event.message.text\n",
    "    with ApiClient(configuration) as api_client:\n",
    "        line_bot_api = MessagingApi(api_client)\n",
    "        if text.startswith('AI '):\n",
    "            prompt = text[3:]\n",
    "            messages.append(prompt)\n",
    "            prompts = \" \".join(messages)\n",
    "            reply_text = get_completion(prompts)\n",
    "            line_bot_api.reply_message_with_http_info(\n",
    "                ReplyMessageRequest(\n",
    "                    reply_token=event.reply_token,\n",
    "                    messages=[TextMessage(text=reply_text)]\n",
    "                )\n",
    "            )\n",
    "            messages.append(reply_text)\n",
    "        else:\n",
    "            line_bot_api.reply_message_with_http_info(\n",
    "                ReplyMessageRequest(\n",
    "                    reply_token=event.reply_token,\n",
    "                    messages=[TextMessage(text=event.message.text),\n",
    "                        TextMessage(text=event.message.text)]\n",
    "                )\n",
    "            )\n",
    "\n",
    "        \n",
    "@handler.add(MessageEvent, message=StickerMessageContent)\n",
    "def handle_sticker_message(event):\n",
    "    with ApiClient(configuration) as api_client:\n",
    "        line_bot_api = MessagingApi(api_client)\n",
    "        line_bot_api.reply_message(\n",
    "            ReplyMessageRequest(\n",
    "                reply_token=event.reply_token,\n",
    "                messages=[StickerMessage(\n",
    "                    package_id=event.message.package_id,\n",
    "                    sticker_id=event.message.sticker_id)\n",
    "                ]\n",
    "            )\n",
    "        )\n",
    "\n",
    "@handler.add(MessageEvent, message=LocationMessageContent)\n",
    "def handle_location_message(event):\n",
    "    with ApiClient(configuration) as api_client:\n",
    "        line_bot_api = MessagingApi(api_client)\n",
    "        line_bot_api.reply_message(\n",
    "            ReplyMessageRequest(\n",
    "                reply_token=event.reply_token,\n",
    "                messages=[LocationMessage(\n",
    "                    title='定位訊息',\n",
    "                    address=event.message.address,\n",
    "                    latitude=event.message.latitude,\n",
    "                    longitude=event.message.longitude\n",
    "                )]\n",
    "            )\n",
    "        )\n",
    "\n",
    "if __name__ == \"__main__\":\n",
    "    app.run(port=port)"
   ]
  }
 ],
 "metadata": {
  "kernelspec": {
   "display_name": "linebot",
   "language": "python",
   "name": "python3"
  },
  "language_info": {
   "codemirror_mode": {
    "name": "ipython",
    "version": 3
   },
   "file_extension": ".py",
   "mimetype": "text/x-python",
   "name": "python",
   "nbconvert_exporter": "python",
   "pygments_lexer": "ipython3",
   "version": "3.12.3"
  }
 },
 "nbformat": 4,
 "nbformat_minor": 2
}
