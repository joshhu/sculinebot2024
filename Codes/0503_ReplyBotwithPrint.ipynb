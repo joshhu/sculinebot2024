{
 "cells": [
  {
   "cell_type": "markdown",
   "metadata": {},
   "source": [
    "## 如果是在Google Colab上執行，請先執行以下程式碼"
   ]
  },
  {
   "cell_type": "code",
   "execution_count": null,
   "metadata": {},
   "outputs": [],
   "source": [
    "# from google.colab import userdata\n",
    "\n",
    "# ngrok_key = userdata.get('ngrok_key')\n",
    "# line_access_token = userdata.get('line_access_token')\n",
    "# line_secret = userdata.get('line_secret')\n",
    "# port = 5000"
   ]
  },
  {
   "cell_type": "markdown",
   "metadata": {},
   "source": [
    "## 如果在本機執行，需先設定好`conda vars`變數，以取得各金鑰"
   ]
  },
  {
   "cell_type": "markdown",
   "metadata": {},
   "source": [
    "### 程式說明\n",
    " - 從`conda`虛擬環境中取得line secret和line channel access token\n",
    " - 指定通訊埠為5000"
   ]
  },
  {
   "cell_type": "code",
   "execution_count": null,
   "metadata": {},
   "outputs": [],
   "source": [
    "import os\n",
    "line_access_token = os.environ.get('LINE_ACCESS_TOKEN')\n",
    "line_secret = os.environ.get('LINE_SECRET')\n",
    "port = 5000"
   ]
  },
  {
   "cell_type": "markdown",
   "metadata": {},
   "source": [
    "### 載入套件\n",
    "- `WebhookHandler`類別用來處理送入LINE Bot的訊息\n",
    "- `InvalidSignatureError`例外處理用來處理簽名錯誤\n",
    "- `Flask`用來建立網頁伺服器\n",
    "- `request`用來處理HTTP請求\n",
    "- `Configuration`用來設定LINE Bot的基本資訊\n",
    "- `ApiClient`用來建立與LINE Bot的連線\n",
    "- `MessagingApi`用來發送訊息\n",
    "- `TextMessage`為文字類別物件\n",
    "- `ReplyMessageRequest`為回覆訊息的請求物件"
   ]
  },
  {
   "cell_type": "code",
   "execution_count": null,
   "metadata": {},
   "outputs": [],
   "source": [
    "from flask import Flask, request, abort\n",
    "\n",
    "from linebot.v3 import (\n",
    "    WebhookHandler\n",
    ")\n",
    "from linebot.v3.exceptions import (\n",
    "    InvalidSignatureError\n",
    ")\n",
    "from linebot.v3.messaging import (\n",
    "    Configuration,\n",
    "    ApiClient,\n",
    "    MessagingApi,\n",
    "    ReplyMessageRequest,\n",
    "    TextMessage,    \n",
    ")\n",
    "\n",
    "from linebot.v3.webhooks import (\n",
    "    MessageEvent,\n",
    "    TextMessageContent,\n",
    ")\n"
   ]
  },
  {
   "cell_type": "markdown",
   "metadata": {},
   "source": [
    "### 程式執行本體"
   ]
  },
  {
   "cell_type": "code",
   "execution_count": null,
   "metadata": {},
   "outputs": [],
   "source": [
    "# 定義Flask應用程式起點\n",
    "\n",
    "app = Flask(__name__)\n",
    "\n",
    "# 設定LINE Bot的Webhook，指定LINE Bot的Channel Secret與Channel Access Token\n",
    "# 指定處理Webhook的handler\n",
    "\n",
    "configuration = Configuration(access_token=line_access_token)\n",
    "handler = WebhookHandler(line_secret)\n",
    "\n",
    "# 以下為正式處理的程式碼\n",
    "# 指定網址，並且指定Webhook規定使用的POST方法而非GET方法\n",
    "# 此處的處理程式可以自行命名，這邊使用慣例的callback\n",
    "# 這邊處理的網址為根網址，即\"/\"。如果要指定其他網址，可以在\"/\"後面加上其他字串，如\"/callback\"\n",
    "# 如果指定了其它字串，在LINE的設定中的Webhook也要隨之修改\n",
    "\n",
    "@app.route(\"/\", methods=['POST'])\n",
    "def callback():\n",
    "    # get X-Line-Signature header value\n",
    "    signature = request.headers['X-Line-Signature']\n",
    "\n",
    "    # get request body as text\n",
    "    body = request.get_data(as_text=True)\n",
    "    print(\"BODY: \", body)\n",
    "    \n",
    "    # 將讀取來的本體寫入記錄檔\n",
    "    app.logger.info(\"Request body: \" + body)\n",
    "\n",
    "    # handle webhook body，如果簽名有問題，就直接中止並送出400錯訊訊息\n",
    "    # 如果沒有問題，就直接丟給handler處理\n",
    "    \n",
    "    try:\n",
    "        handler.handle(body, signature)\n",
    "    except InvalidSignatureError:\n",
    "        app.logger.info(\"Invalid signature. Please check your channel access token/channel secret.\")\n",
    "        abort(400)\n",
    "    # 這邊一定要送出\"OK\"，這是LINE規定的\n",
    "    return 'OK'\n",
    "\n",
    "if __name__ == \"__main__\":\n",
    "    app.run(port=port)"
   ]
  },
  {
   "cell_type": "code",
   "execution_count": null,
   "metadata": {},
   "outputs": [],
   "source": [
    "app = Flask(__name__)\n",
    "\n",
    "configuration = Configuration(access_token=line_access_token)\n",
    "handler = WebhookHandler(line_secret)\n",
    "\n",
    "\n",
    "@app.route(\"/\", methods=['POST'])\n",
    "def callback():\n",
    "    signature = request.headers['X-Line-Signature']\n",
    "\n",
    "    body = request.get_data(as_text=True)\n",
    "    print(\"BODY: \", body)\n",
    "    \n",
    "    app.logger.info(\"Request body: \" + body)\n",
    "\n",
    "    try:\n",
    "        handler.handle(body, signature)\n",
    "    except InvalidSignatureError:\n",
    "        app.logger.info(\"Invalid signature. Please check your channel access token/channel secret.\")\n",
    "        abort(400)\n",
    "\n",
    "    return 'OK'\n",
    "\n",
    "# 加上處理訊息的部分\n",
    "# 如果是「訊息事件」，且訊息是文字訊息的處理方法\n",
    "# 先印出訊息本身的全部\n",
    "# 透過ApiClient建立一個MessagingApi的物件\n",
    "# 透過MessagingApi的reply_message_with_http_info方法，回覆訊息\n",
    "# 這邊的訊息是一個文字訊息，內容是原本的訊息內容兩次\n",
    "\n",
    "@handler.add(MessageEvent, message=TextMessageContent)\n",
    "def handle_message(event):\n",
    "    print(\"EVENT\", event)\n",
    "    with ApiClient(configuration) as api_client:\n",
    "        line_bot_api = MessagingApi(api_client)\n",
    "        line_bot_api.reply_message_with_http_info(\n",
    "            ReplyMessageRequest(\n",
    "                reply_token=event.reply_token,\n",
    "                messages=[TextMessage(text=event.message.text),\n",
    "                            TextMessage(text=event.message.text)]\n",
    "            )\n",
    "        )\n",
    "\n",
    "# 程式開始執行\n",
    "\n",
    "if __name__ == \"__main__\":\n",
    "    app.run(port=port)"
   ]
  }
 ],
 "metadata": {
  "kernelspec": {
   "display_name": "linebot",
   "language": "python",
   "name": "python3"
  },
  "language_info": {
   "codemirror_mode": {
    "name": "ipython",
    "version": 3
   },
   "file_extension": ".py",
   "mimetype": "text/x-python",
   "name": "python",
   "nbconvert_exporter": "python",
   "pygments_lexer": "ipython3",
   "version": "3.12.3"
  }
 },
 "nbformat": 4,
 "nbformat_minor": 2
}
