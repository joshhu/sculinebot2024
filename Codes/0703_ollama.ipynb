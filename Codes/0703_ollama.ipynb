{
 "cells": [
  {
   "cell_type": "code",
   "execution_count": 3,
   "metadata": {},
   "outputs": [
    {
     "name": "stdout",
     "output_type": "stream",
     "text": [
      "明新科技大學(簡稱明新科大)位於台灣新北市的明志與土城區，成立於1966年，為私立大學，由李子寬博士創辦，以理工科系見長。學校以「勤、儉、勇、誠」為校訓，願景是成為一所國際知名的科技大學。\n",
      "\n",
      "學校設有7個學院，包括管理學院、工程與設計學院、人文社會學院、理工學院、經濟財政學院、法律學院、語文學院，以及1研究中心，分別是產業創新與經營研究所、資訊與網路技術研究中心。\n",
      "\n",
      "明新科大與許多國內外大學合作簽署交換學生協議，提供學生出國留學的機會，也積極拓展國際交流，邀請國際學者與專家進行演講、研習，以提升教師與學生的國際視野。校園設施完善，擁有圖書館、電腦中心、體育館等設施，並致力推動環保，取得綠色大學認證。\n",
      "\n",
      "明新科大以理工科系為主，提供如電子工程、電機工程、機械工程、化學工程、土木工程、建築與都市計畫、工業設計、視覺傳達設計、數位內容設計等多元的學系，致力培育具專業技術與實務能力的人才，以因應產業需求。\n"
     ]
    }
   ],
   "source": [
    "from openai import OpenAI\n",
    "\n",
    "client = OpenAI(\n",
    "    base_url='http://120.105.97.239:11434/v1/',\n",
    "\n",
    "    # required but ignored\n",
    "    api_key='ollama',\n",
    ")\n",
    "\n",
    "chat_completion = client.chat.completions.create(\n",
    "    messages=[\n",
    "        {\n",
    "            'role': 'system',\n",
    "            'content': '你是一個說繁體中文的助理，只會用台灣用語，不會用中國用語',\n",
    "            'role': 'user',\n",
    "            'content': '介紹一下明新科大',\n",
    "\n",
    "        }\n",
    "    ],\n",
    "    model='jcai/llama3-taide-lx-8b-chat-alpha1:f16',\n",
    ")\n",
    "print(chat_completion.choices[0].message.content)"
   ]
  }
 ],
 "metadata": {
  "kernelspec": {
   "display_name": "linebot",
   "language": "python",
   "name": "python3"
  },
  "language_info": {
   "codemirror_mode": {
    "name": "ipython",
    "version": 3
   },
   "file_extension": ".py",
   "mimetype": "text/x-python",
   "name": "python",
   "nbconvert_exporter": "python",
   "pygments_lexer": "ipython3",
   "version": "3.12.3"
  }
 },
 "nbformat": 4,
 "nbformat_minor": 2
}
