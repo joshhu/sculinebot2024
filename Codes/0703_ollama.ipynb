{
 "cells": [
  {
   "cell_type": "code",
   "execution_count": 1,
   "metadata": {},
   "outputs": [
    {
     "name": "stdout",
     "output_type": "stream",
     "text": [
      "東吳大學資訊科學系成立於1993年，為台灣早期成立的資訊科學系所之一，目標在於培育高階資訊科學與技術人才。該系所位處台北城中校區，提供學士、碩士、博士學位課程。\n",
      "\n",
      "學士班\n",
      "\n",
      "學士班課程設計著重於基礎計算機科學領域，如演算法、資料結構、作業系統、計算機網路、編譯器設計等，也開設專業選修課，讓學生能依興趣與職涯發展選擇適合的科目。學士班學生必須完成一項專題研究或畢業論文，以展現他們在資訊科學領域的實作能力。\n",
      "\n",
      "碩士班\n",
      "\n",
      "碩士班分為兩個主修領域，分別是「人工智慧與機器學習」、「網路工程與行動計算」，學生可依興趣選擇。課程包括進階的理論課程、專題研習，以及論文研究。許多碩士生在畢業後繼續攻讀博士，或投入產業界從事資訊科學相關工作。\n",
      "\n",
      "博士班\n",
      "\n",
      "博士班課程設計著重於深入的學術研究，學生需完成一系列的核心課程，以及參與研討會、發表論文。博士候選人必須通過嚴格的考核，才能取得博士學位。許多系所教師從事尖端的研究工作，他們指導博士生進行創新性的研究專案，這有助於培育下一代資訊科學與技術領域的領袖。\n",
      "\n",
      "國際交流\n",
      "\n",
      "東吳大學資訊科學系積極推動國際交流，與多所國外知名大學簽署合作協議，提供交換生、雙聯博士等計畫。此舉有助於提升學生的全球視野，並建立國際人脈。\n",
      "\n",
      "研究\n",
      "\n",
      "該系所的教師從事廣泛的研究領域，如人工智慧、機器學習、大數據、網路安全、分散式系統等。許多教師在國內外知名期刊上發表論文，並獲得各項研究獎項。\n",
      "\n",
      "設施\n",
      "\n",
      "系所擁有先進的教學與研究設施，包括電腦教室、高效能計算中心、大型會議室、研究室等，以支援學生與教師在資訊科學領域的學習與研究。\n",
      "\n",
      "校友表現\n",
      "\n",
      "東吳大學資訊科學系畢業的校友，在產學界表現傑出，許多人擔任重要職位，如科技公司執行長、研發部門主管、大學院校教授等。該系所以培育優秀人才為宗旨，不僅在理論上，也重視實務應用，使畢業生能勝任各種資訊科學與技術工作。\n"
     ]
    }
   ],
   "source": [
    "from openai import OpenAI\n",
    "\n",
    "client = OpenAI(\n",
    "    base_url='http://120.105.97.239:11434/v1/',\n",
    "\n",
    "    # required but ignored\n",
    "    api_key='ollama',\n",
    ")\n",
    "\n",
    "chat_completion = client.chat.completions.create(\n",
    "    messages=[\n",
    "        {\n",
    "            'role': 'system',\n",
    "            'content': '你是一個說繁體中文的助理，只會用台灣用語，不會用中國用語',\n",
    "            'role': 'user',\n",
    "            'content': '介紹一下東吳大學資科系',\n",
    "\n",
    "        }\n",
    "    ],\n",
    "    model='jcai/llama3-taide-lx-8b-chat-alpha1:f16',\n",
    "    # model='llama3',\n",
    ")\n",
    "print(chat_completion.choices[0].message.content)"
   ]
  }
 ],
 "metadata": {
  "kernelspec": {
   "display_name": "linebot",
   "language": "python",
   "name": "python3"
  },
  "language_info": {
   "codemirror_mode": {
    "name": "ipython",
    "version": 3
   },
   "file_extension": ".py",
   "mimetype": "text/x-python",
   "name": "python",
   "nbconvert_exporter": "python",
   "pygments_lexer": "ipython3",
   "version": "3.12.3"
  }
 },
 "nbformat": 4,
 "nbformat_minor": 2
}
