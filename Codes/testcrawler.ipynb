{
 "cells": [
  {
   "cell_type": "code",
   "execution_count": 1,
   "metadata": {},
   "outputs": [],
   "source": [
    "import os\n",
    "import requests\n",
    "from bs4 import BeautifulSoup\n",
    "from flask import Flask, request, abort\n",
    "from linebot.v3 import WebhookHandler\n",
    "from linebot.v3.exceptions import InvalidSignatureError\n",
    "from linebot.v3.messaging import Configuration, ApiClient, MessagingApi, ReplyMessageRequest, TextMessage\n",
    "from linebot.v3.webhooks import MessageEvent, TextMessageContent\n",
    "\n",
    "line_access_token = os.environ.get('LINE_ACCESS_TOKEN')\n",
    "line_secret = os.environ.get('LINE_SECRET')\n",
    "port = 5000\n",
    "\n",
    "configuration = Configuration(access_token=line_access_token)\n",
    "handler = WebhookHandler(line_secret)\n"
   ]
  },
  {
   "cell_type": "code",
   "execution_count": 2,
   "metadata": {},
   "outputs": [],
   "source": [
    "def get_latest_article():\n",
    "    url = 'https://ccc.technews.tw/'\n",
    "    response = requests.get(url)\n",
    "    if response.status_code != 200:\n",
    "        return \"無法存取該網址。\"\n",
    "    else:\n",
    "        soup = BeautifulSoup(response.text, 'html.parser')\n",
    "        latest_article = soup.find('div', class_='content')\n",
    "        if latest_article:\n",
    "            title = latest_article.find('h1', class_='entry-title').text.strip()\n",
    "            link = latest_article.find('a')['href']\n",
    "            images = latest_article.find_all('img')\n",
    "            if images:\n",
    "                last_image = images[-1]['src']\n",
    "                return f\"最新文章標題：{title}\\n最新文章連結：{link}\\n最後一張圖片：{last_image}\"\n",
    "            else:\n",
    "                return f\"最新文章標題：{title}\\n最新文章連結：{link}\\n該文章沒有圖片。\"\n",
    "        else:\n",
    "            return \"找不到最新文章。\"\n",
    "\n"
   ]
  },
  {
   "cell_type": "code",
   "execution_count": 3,
   "metadata": {},
   "outputs": [
    {
     "name": "stdout",
     "output_type": "stream",
     "text": [
      "最新文章標題：Galaxy Ring 價格曝光，傳聞與 Galaxy Watch 定價差不多\n",
      "最新文章連結：https://ccc.technews.tw/2024/05/24/samsung-galaxy-ring-price-revealed/\n",
      "最後一張圖片：https://img.technews.tw/wp-content/uploads/2024/02/29161928/Galaxy-Ring1-300x225.jpg\n"
     ]
    }
   ],
   "source": [
    "latest_info = get_latest_article()\n",
    "print(latest_info)"
   ]
  },
  {
   "cell_type": "code",
   "execution_count": 8,
   "metadata": {},
   "outputs": [
    {
     "name": "stdout",
     "output_type": "stream",
     "text": [
      " * Serving Flask app '__main__'\n",
      " * Debug mode: off\n"
     ]
    },
    {
     "name": "stderr",
     "output_type": "stream",
     "text": [
      "\u001b[31m\u001b[1mWARNING: This is a development server. Do not use it in a production deployment. Use a production WSGI server instead.\u001b[0m\n",
      " * Running on http://127.0.0.1:5000\n",
      "\u001b[33mPress CTRL+C to quit\u001b[0m\n"
     ]
    },
    {
     "name": "stderr",
     "output_type": "stream",
     "text": [
      "127.0.0.1 - - [24/May/2024 12:13:00] \"POST / HTTP/1.1\" 200 -\n"
     ]
    }
   ],
   "source": [
    "app = Flask(__name__)\n",
    "\n",
    "@app.route(\"/\", methods=['POST'])\n",
    "def callback():\n",
    "    signature = request.headers.get('X-Line-Signature', '')\n",
    "    body = request.get_data(as_text=True)\n",
    "\n",
    "    try:\n",
    "        handler.handle(body, signature)\n",
    "    except InvalidSignatureError:\n",
    "        abort(400)\n",
    "    return 'OK'\n",
    "\n",
    "@handler.add(MessageEvent, message=TextMessageContent)\n",
    "def handle_message(event):\n",
    "    text = event.message.text\n",
    "    if text.lower() == \"latest\":\n",
    "        latest_info = get_latest_article()\n",
    "        with ApiClient(configuration) as api_client:\n",
    "            line_bot_api = MessagingApi(api_client)\n",
    "            line_bot_api.reply_message_with_http_info(\n",
    "                ReplyMessageRequest(\n",
    "                    reply_token=event.reply_token,\n",
    "                    messages=[TextMessage(text=latest_info)]\n",
    "                )\n",
    "            )\n",
    "\n",
    "if __name__ == \"__main__\":\n",
    "    app.run(port=port)"
   ]
  }
 ],
 "metadata": {
  "kernelspec": {
   "display_name": "linebot",
   "language": "python",
   "name": "python3"
  },
  "language_info": {
   "codemirror_mode": {
    "name": "ipython",
    "version": 3
   },
   "file_extension": ".py",
   "mimetype": "text/x-python",
   "name": "python",
   "nbconvert_exporter": "python",
   "pygments_lexer": "ipython3",
   "version": "3.12.3"
  }
 },
 "nbformat": 4,
 "nbformat_minor": 2
}
