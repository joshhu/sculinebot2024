{
 "cells": [
  {
   "cell_type": "code",
   "execution_count": 1,
   "metadata": {},
   "outputs": [
    {
     "name": "stdout",
     "output_type": "stream",
     "text": [
      "東吳大學資訊科學系成立於1981年，是國內首屈一指的資訊科學領域學府之一，該系以培育頂尖的電腦科學與工程人才為宗旨，提供學士、碩士、博士三個層級的課程。\n",
      "\n",
      "在學士班中，學生可選擇主修電腦科學組或資訊工程組，其中電腦科學組著重於理論計算、演算法、資料結構等基礎研究，而資訊工程組則著重在軟體工程、網路工程、人工智慧等領域。學生還可選修跨領域學程，如生物資訊、數位內容、金融科技等，以拓展自己的專業版圖。\n",
      "\n",
      "碩士班與博士班則提供更深入的研究課程，著重在尖端技術的研發與理論的深度探討。系上設有多個實驗室，如作業系統實驗室、計算機網路實驗室、資料庫系統實驗室等，支援師生從事前瞻性研究。\n",
      "\n",
      "東吳資科系以其優良的師資陣容著稱，許多教授在國內外享有盛名，並曾指導過多位傑出的校友。此外，系上也與業界維持密切的合作關係，為學生提供實習、研究計畫、就業機會等資源。\n",
      "\n",
      "總而言之，東吳大學資訊科學系在國內資訊科學領域占有重要地位，以其紮實的理論基礎和前沿的應用研究，為社會培育出眾多優秀的資訊人才。\n"
     ]
    }
   ],
   "source": [
    "from openai import OpenAI\n",
    "\n",
    "client = OpenAI(\n",
    "    base_url='http://120.105.97.239:11434/v1/',\n",
    "\n",
    "    # required but ignored\n",
    "    api_key='ollama',\n",
    ")\n",
    "\n",
    "chat_completion = client.chat.completions.create(\n",
    "    messages=[\n",
    "        {\n",
    "            'role': 'system',\n",
    "            'content': '你是一個說繁體中文的助理，只會用台灣用語，不會用中國用語',\n",
    "            'role': 'user',\n",
    "            'content': '介紹一下東吳大學資科系',\n",
    "\n",
    "        }\n",
    "    ],\n",
    "    model='jcai/llama3-taide-lx-8b-chat-alpha1:f16',\n",
    "    # model='llama3',\n",
    ")\n",
    "print(chat_completion.choices[0].message.content)"
   ]
  }
 ],
 "metadata": {
  "kernelspec": {
   "display_name": "linebot",
   "language": "python",
   "name": "python3"
  },
  "language_info": {
   "codemirror_mode": {
    "name": "ipython",
    "version": 3
   },
   "file_extension": ".py",
   "mimetype": "text/x-python",
   "name": "python",
   "nbconvert_exporter": "python",
   "pygments_lexer": "ipython3",
   "version": "3.12.3"
  }
 },
 "nbformat": 4,
 "nbformat_minor": 2
}
