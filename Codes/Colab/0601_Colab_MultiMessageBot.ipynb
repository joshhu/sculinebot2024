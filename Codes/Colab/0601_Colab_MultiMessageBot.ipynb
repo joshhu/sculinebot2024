{
  "cells": [
    {
      "cell_type": "code",
      "source": [
        "!pip install Flask pyngrok line-bot-sdk requests openai"
      ],
      "metadata": {
        "colab": {
          "base_uri": "https://localhost:8080/"
        },
        "id": "YWE8bK7dDMxO",
        "outputId": "9c535431-ebdc-4be5-834d-dd30f4c274ba"
      },
      "execution_count": null,
      "outputs": [
        {
          "output_type": "stream",
          "name": "stdout",
          "text": [
            "Requirement already satisfied: Flask in /usr/local/lib/python3.10/dist-packages (2.2.5)\n",
            "Collecting pyngrok\n",
            "  Downloading pyngrok-7.1.6-py3-none-any.whl (22 kB)\n",
            "Collecting line-bot-sdk\n",
            "  Downloading line_bot_sdk-3.11.0-py2.py3-none-any.whl (758 kB)\n",
            "\u001b[2K     \u001b[90m━━━━━━━━━━━━━━━━━━━━━━━━━━━━━━━━━━━━━━━━\u001b[0m \u001b[32m758.4/758.4 kB\u001b[0m \u001b[31m10.1 MB/s\u001b[0m eta \u001b[36m0:00:00\u001b[0m\n",
            "\u001b[?25hRequirement already satisfied: requests in /usr/local/lib/python3.10/dist-packages (2.31.0)\n",
            "Collecting openai\n",
            "  Downloading openai-1.30.3-py3-none-any.whl (320 kB)\n",
            "\u001b[2K     \u001b[90m━━━━━━━━━━━━━━━━━━━━━━━━━━━━━━━━━━━━━━━━\u001b[0m \u001b[32m320.6/320.6 kB\u001b[0m \u001b[31m18.4 MB/s\u001b[0m eta \u001b[36m0:00:00\u001b[0m\n",
            "\u001b[?25hRequirement already satisfied: Werkzeug>=2.2.2 in /usr/local/lib/python3.10/dist-packages (from Flask) (3.0.3)\n",
            "Requirement already satisfied: Jinja2>=3.0 in /usr/local/lib/python3.10/dist-packages (from Flask) (3.1.4)\n",
            "Requirement already satisfied: itsdangerous>=2.0 in /usr/local/lib/python3.10/dist-packages (from Flask) (2.2.0)\n",
            "Requirement already satisfied: click>=8.0 in /usr/local/lib/python3.10/dist-packages (from Flask) (8.1.7)\n",
            "Requirement already satisfied: PyYAML>=5.1 in /usr/local/lib/python3.10/dist-packages (from pyngrok) (6.0.1)\n",
            "Requirement already satisfied: urllib3<3,>=2.0.5 in /usr/local/lib/python3.10/dist-packages (from line-bot-sdk) (2.0.7)\n",
            "Requirement already satisfied: aiohttp==3.9.5 in /usr/local/lib/python3.10/dist-packages (from line-bot-sdk) (3.9.5)\n",
            "Requirement already satisfied: future in /usr/local/lib/python3.10/dist-packages (from line-bot-sdk) (0.18.3)\n",
            "Requirement already satisfied: pydantic<3,>=2.0.3 in /usr/local/lib/python3.10/dist-packages (from line-bot-sdk) (2.7.1)\n",
            "Collecting aenum>=3.1.11 (from line-bot-sdk)\n",
            "  Downloading aenum-3.1.15-py3-none-any.whl (137 kB)\n",
            "\u001b[2K     \u001b[90m━━━━━━━━━━━━━━━━━━━━━━━━━━━━━━━━━━━━━━━━\u001b[0m \u001b[32m137.6/137.6 kB\u001b[0m \u001b[31m10.4 MB/s\u001b[0m eta \u001b[36m0:00:00\u001b[0m\n",
            "\u001b[?25hRequirement already satisfied: python-dateutil>=2.5.3 in /usr/local/lib/python3.10/dist-packages (from line-bot-sdk) (2.8.2)\n",
            "Collecting Deprecated (from line-bot-sdk)\n",
            "  Downloading Deprecated-1.2.14-py2.py3-none-any.whl (9.6 kB)\n",
            "Requirement already satisfied: charset-normalizer<4,>=2 in /usr/local/lib/python3.10/dist-packages (from requests) (3.3.2)\n",
            "Requirement already satisfied: idna<4,>=2.5 in /usr/local/lib/python3.10/dist-packages (from requests) (3.7)\n",
            "Requirement already satisfied: certifi>=2017.4.17 in /usr/local/lib/python3.10/dist-packages (from requests) (2024.2.2)\n",
            "Requirement already satisfied: aiosignal>=1.1.2 in /usr/local/lib/python3.10/dist-packages (from aiohttp==3.9.5->line-bot-sdk) (1.3.1)\n",
            "Requirement already satisfied: attrs>=17.3.0 in /usr/local/lib/python3.10/dist-packages (from aiohttp==3.9.5->line-bot-sdk) (23.2.0)\n",
            "Requirement already satisfied: frozenlist>=1.1.1 in /usr/local/lib/python3.10/dist-packages (from aiohttp==3.9.5->line-bot-sdk) (1.4.1)\n",
            "Requirement already satisfied: multidict<7.0,>=4.5 in /usr/local/lib/python3.10/dist-packages (from aiohttp==3.9.5->line-bot-sdk) (6.0.5)\n",
            "Requirement already satisfied: yarl<2.0,>=1.0 in /usr/local/lib/python3.10/dist-packages (from aiohttp==3.9.5->line-bot-sdk) (1.9.4)\n",
            "Requirement already satisfied: async-timeout<5.0,>=4.0 in /usr/local/lib/python3.10/dist-packages (from aiohttp==3.9.5->line-bot-sdk) (4.0.3)\n",
            "Requirement already satisfied: anyio<5,>=3.5.0 in /usr/local/lib/python3.10/dist-packages (from openai) (3.7.1)\n",
            "Requirement already satisfied: distro<2,>=1.7.0 in /usr/lib/python3/dist-packages (from openai) (1.7.0)\n",
            "Collecting httpx<1,>=0.23.0 (from openai)\n",
            "  Downloading httpx-0.27.0-py3-none-any.whl (75 kB)\n",
            "\u001b[2K     \u001b[90m━━━━━━━━━━━━━━━━━━━━━━━━━━━━━━━━━━━━━━━━\u001b[0m \u001b[32m75.6/75.6 kB\u001b[0m \u001b[31m7.9 MB/s\u001b[0m eta \u001b[36m0:00:00\u001b[0m\n",
            "\u001b[?25hRequirement already satisfied: sniffio in /usr/local/lib/python3.10/dist-packages (from openai) (1.3.1)\n",
            "Requirement already satisfied: tqdm>4 in /usr/local/lib/python3.10/dist-packages (from openai) (4.66.4)\n",
            "Requirement already satisfied: typing-extensions<5,>=4.7 in /usr/local/lib/python3.10/dist-packages (from openai) (4.11.0)\n",
            "Requirement already satisfied: exceptiongroup in /usr/local/lib/python3.10/dist-packages (from anyio<5,>=3.5.0->openai) (1.2.1)\n",
            "Collecting httpcore==1.* (from httpx<1,>=0.23.0->openai)\n",
            "  Downloading httpcore-1.0.5-py3-none-any.whl (77 kB)\n",
            "\u001b[2K     \u001b[90m━━━━━━━━━━━━━━━━━━━━━━━━━━━━━━━━━━━━━━━━\u001b[0m \u001b[32m77.9/77.9 kB\u001b[0m \u001b[31m8.4 MB/s\u001b[0m eta \u001b[36m0:00:00\u001b[0m\n",
            "\u001b[?25hCollecting h11<0.15,>=0.13 (from httpcore==1.*->httpx<1,>=0.23.0->openai)\n",
            "  Downloading h11-0.14.0-py3-none-any.whl (58 kB)\n",
            "\u001b[2K     \u001b[90m━━━━━━━━━━━━━━━━━━━━━━━━━━━━━━━━━━━━━━━━\u001b[0m \u001b[32m58.3/58.3 kB\u001b[0m \u001b[31m7.1 MB/s\u001b[0m eta \u001b[36m0:00:00\u001b[0m\n",
            "\u001b[?25hRequirement already satisfied: MarkupSafe>=2.0 in /usr/local/lib/python3.10/dist-packages (from Jinja2>=3.0->Flask) (2.1.5)\n",
            "Requirement already satisfied: annotated-types>=0.4.0 in /usr/local/lib/python3.10/dist-packages (from pydantic<3,>=2.0.3->line-bot-sdk) (0.7.0)\n",
            "Requirement already satisfied: pydantic-core==2.18.2 in /usr/local/lib/python3.10/dist-packages (from pydantic<3,>=2.0.3->line-bot-sdk) (2.18.2)\n",
            "Requirement already satisfied: six>=1.5 in /usr/local/lib/python3.10/dist-packages (from python-dateutil>=2.5.3->line-bot-sdk) (1.16.0)\n",
            "Requirement already satisfied: wrapt<2,>=1.10 in /usr/local/lib/python3.10/dist-packages (from Deprecated->line-bot-sdk) (1.14.1)\n",
            "Installing collected packages: aenum, pyngrok, h11, Deprecated, httpcore, line-bot-sdk, httpx, openai\n",
            "Successfully installed Deprecated-1.2.14 aenum-3.1.15 h11-0.14.0 httpcore-1.0.5 httpx-0.27.0 line-bot-sdk-3.11.0 openai-1.30.3 pyngrok-7.1.6\n"
          ]
        }
      ]
    },
    {
      "cell_type": "code",
      "source": [],
      "metadata": {
        "id": "DNAJu4iDMlFo"
      },
      "execution_count": null,
      "outputs": []
    },
    {
      "cell_type": "code",
      "execution_count": null,
      "metadata": {
        "id": "B_x87YyJGRQI"
      },
      "outputs": [],
      "source": [
        "from google.colab import userdata\n",
        "\n",
        "ngrok_authtoken = userdata.get('NGROK_AUTHTOKEN')\n",
        "line_channel_access_token = userdata.get('LINE_CHANNEL_ACCESS_TOKEN')\n",
        "line_channel_secret = userdata.get('LINE_CHANNEL_SECRET')\n",
        "openai_api_key = userdata.get('OPENAI_API_KEY')\n",
        "port = 5000"
      ]
    },
    {
      "cell_type": "code",
      "source": [
        "import os\n",
        "from pyngrok import ngrok"
      ],
      "metadata": {
        "id": "QMo-RFMhDe9n"
      },
      "execution_count": null,
      "outputs": []
    },
    {
      "cell_type": "code",
      "source": [
        "ngrok.set_auth_token(ngrok_authtoken)\n",
        "tunnel = ngrok.connect(5000, name=\"linebot_tunnel\")\n",
        "print(tunnel.public_url)"
      ],
      "metadata": {
        "colab": {
          "base_uri": "https://localhost:8080/"
        },
        "id": "70zpSuAaDiVB",
        "outputId": "9d4a214c-bf35-45d1-820c-4b2ca01c3b06"
      },
      "execution_count": null,
      "outputs": [
        {
          "output_type": "stream",
          "name": "stdout",
          "text": [
            "https://994b-34-86-145-215.ngrok-free.app\n"
          ]
        }
      ]
    },
    {
      "cell_type": "code",
      "execution_count": null,
      "metadata": {
        "colab": {
          "base_uri": "https://localhost:8080/"
        },
        "id": "F4Wf6cRVDJVK",
        "outputId": "e6556b0c-af01-4eef-a6dd-dc0a401ed56c"
      },
      "outputs": [
        {
          "metadata": {
            "tags": null
          },
          "name": "stdout",
          "output_type": "stream",
          "text": [
            " * Serving Flask app '__main__'\n",
            " * Debug mode: off\n"
          ]
        },
        {
          "metadata": {
            "tags": null
          },
          "name": "stderr",
          "output_type": "stream",
          "text": [
            "INFO:werkzeug:\u001b[31m\u001b[1mWARNING: This is a development server. Do not use it in a production deployment. Use a production WSGI server instead.\u001b[0m\n",
            " * Running on http://127.0.0.1:5000\n",
            "INFO:werkzeug:\u001b[33mPress CTRL+C to quit\u001b[0m\n",
            "INFO:werkzeug:127.0.0.1 - - [28/May/2024 08:22:41] \"POST / HTTP/1.1\" 200 -\n"
          ]
        },
        {
          "metadata": {
            "tags": null
          },
          "name": "stdout",
          "output_type": "stream",
          "text": [
            "BODY:  {\"destination\":\"U08e238379070624ecd3a6ba91e449e19\",\"events\":[]}\n",
            "BODY:  {\"destination\":\"U08e238379070624ecd3a6ba91e449e19\",\"events\":[{\"type\":\"message\",\"message\":{\"type\":\"text\",\"id\":\"510116755223085074\",\"quoteToken\":\"edr-hsveN44twvFvTSwJSLGlfkYhUmvbhilDdDBuMdVB-K6KjM6F1aVof6ugq9bnbbn9xBx0ev6o7XJJkcTpb_bQ6ty2PmBeqN890tH2Uz6oj-VYzwQ-JGhjeLr3dSB8aZj7pmW_0TlpyIS50fNJ5g\",\"text\":\"hhh \"},\"webhookEventId\":\"01HYZ4QDYZ2D7B72DB73RVM3SG\",\"deliveryContext\":{\"isRedelivery\":false},\"timestamp\":1716884583908,\"source\":{\"type\":\"user\",\"userId\":\"Uc9d6d3d031222ca0e86cebfd151d295e\"},\"replyToken\":\"99a99aeeaf5946f89fc2b4fa4b864572\",\"mode\":\"active\"}]}\n"
          ]
        },
        {
          "metadata": {
            "tags": null
          },
          "name": "stderr",
          "output_type": "stream",
          "text": [
            "INFO:werkzeug:127.0.0.1 - - [28/May/2024 08:23:05] \"POST / HTTP/1.1\" 200 -\n"
          ]
        },
        {
          "metadata": {
            "tags": null
          },
          "name": "stdout",
          "output_type": "stream",
          "text": [
            "BODY:  {\"destination\":\"U08e238379070624ecd3a6ba91e449e19\",\"events\":[{\"type\":\"message\",\"message\":{\"type\":\"text\",\"id\":\"510116838772834874\",\"quoteToken\":\"NvPl4bzu8gb0g0cAFafEuZOOYj32XQdGCmAERaqzJA2-6xlLW_9mDuIhbTH9mbeLHGZVihEv-xSWbpos-qf2upjjaqFyepjueyrAfM463YCzswc6efEh9rimwPTq2xYfotDRz-sEPeG1PS_qRRjDGA\",\"text\":\"ooo\"},\"webhookEventId\":\"01HYZ4RYGWWJGQ2AX7QK33KY90\",\"deliveryContext\":{\"isRedelivery\":false},\"timestamp\":1716884633838,\"source\":{\"type\":\"user\",\"userId\":\"Uc9d6d3d031222ca0e86cebfd151d295e\"},\"replyToken\":\"00472945fa714328a7e14e35674dc6d5\",\"mode\":\"active\"}]}\n"
          ]
        },
        {
          "metadata": {
            "tags": null
          },
          "name": "stderr",
          "output_type": "stream",
          "text": [
            "INFO:werkzeug:127.0.0.1 - - [28/May/2024 08:23:55] \"POST / HTTP/1.1\" 200 -\n"
          ]
        },
        {
          "metadata": {
            "tags": null
          },
          "name": "stdout",
          "output_type": "stream",
          "text": [
            "BODY:  {\"destination\":\"U08e238379070624ecd3a6ba91e449e19\",\"events\":[{\"type\":\"message\",\"message\":{\"type\":\"sticker\",\"id\":\"510116922994721140\",\"quoteToken\":\"g00VOBPS84eO9Ayr6CzKOlUla-O6vPENC_QTjwgivSgaMXIXg3Iv9Ba4zHFkPgFJQ9paqv2YK-feVxVG_pZbMSPUAXIeTtCZi93Sv1zs_LsQBNTn2812ESJkyH6VQta6R0rT-VPqrjgTv357tSMi6w\",\"stickerId\":\"140\",\"packageId\":\"2\",\"stickerResourceType\":\"STATIC\",\"keywords\":[\"chase\",\"play\",\"enjoy\",\"Beaming\",\"Bored\",\"Fooling around\",\"skip\",\"Happy\",\"Fun\"]},\"webhookEventId\":\"01HYZ4TFP4FFV4TCRN2BN5FB57\",\"deliveryContext\":{\"isRedelivery\":false},\"timestamp\":1716884684052,\"source\":{\"type\":\"user\",\"userId\":\"Uc9d6d3d031222ca0e86cebfd151d295e\"},\"replyToken\":\"714be01a7fbb417894b10aee4b4023b2\",\"mode\":\"active\"}]}\n"
          ]
        },
        {
          "metadata": {
            "tags": null
          },
          "name": "stderr",
          "output_type": "stream",
          "text": [
            "INFO:werkzeug:127.0.0.1 - - [28/May/2024 08:24:45] \"POST / HTTP/1.1\" 200 -\n"
          ]
        },
        {
          "metadata": {
            "tags": null
          },
          "name": "stdout",
          "output_type": "stream",
          "text": [
            "BODY:  {\"destination\":\"U08e238379070624ecd3a6ba91e449e19\",\"events\":[{\"type\":\"message\",\"message\":{\"type\":\"sticker\",\"id\":\"510116939419615298\",\"quoteToken\":\"Vtnh1tURafFEogyhHvp7Vmq1TpT89LqCfYk3dPGHoXfToc0779PpYwidTzxUJgNeydrGhgk_oXlnB75bxKUvRSSS6KGj0b7L5Rw2xLkg1AyFflR-Y0nEgPiTo4xBoKX3c-k2RyFZETBYYxQv_2R1rg\",\"stickerId\":\"172999350\",\"packageId\":\"7238834\",\"stickerResourceType\":\"STATIC\",\"keywords\":[\"Wandering\",\"Fun\",\"Cat\"]},\"webhookEventId\":\"01HYZ4TS61GXW5SDYFR4P81D35\",\"deliveryContext\":{\"isRedelivery\":false},\"timestamp\":1716884693703,\"source\":{\"type\":\"user\",\"userId\":\"Uc9d6d3d031222ca0e86cebfd151d295e\"},\"replyToken\":\"6d34f3caaed2485ca2447b328f20cc92\",\"mode\":\"active\"}]}\n"
          ]
        },
        {
          "metadata": {
            "tags": null
          },
          "name": "stderr",
          "output_type": "stream",
          "text": [
            "ERROR:__main__:Exception on / [POST]\n",
            "Traceback (most recent call last):\n",
            "  File \"/usr/local/lib/python3.10/dist-packages/flask/app.py\", line 2529, in wsgi_app\n",
            "    response = self.full_dispatch_request()\n",
            "  File \"/usr/local/lib/python3.10/dist-packages/flask/app.py\", line 1825, in full_dispatch_request\n",
            "    rv = self.handle_user_exception(e)\n",
            "  File \"/usr/local/lib/python3.10/dist-packages/flask/app.py\", line 1823, in full_dispatch_request\n",
            "    rv = self.dispatch_request()\n",
            "  File \"/usr/local/lib/python3.10/dist-packages/flask/app.py\", line 1799, in dispatch_request\n",
            "    return self.ensure_sync(self.view_functions[rule.endpoint])(**view_args)\n",
            "  File \"<ipython-input-5-327866b13f63>\", line 43, in callback\n",
            "    handler.handle(body, signature)\n",
            "  File \"/usr/local/lib/python3.10/dist-packages/linebot/v3/webhook.py\", line 227, in handle\n",
            "    self.__invoke_func(func, event, payload)\n",
            "  File \"/usr/local/lib/python3.10/dist-packages/linebot/v3/webhook.py\", line 239, in __invoke_func\n",
            "    func(event)\n",
            "  File \"<ipython-input-5-327866b13f63>\", line 68, in handle_sticker_message\n",
            "    line_bot_api.reply_message(\n",
            "  File \"/usr/local/lib/python3.10/dist-packages/pydantic/v1/decorator.py\", line 40, in wrapper_function\n",
            "    return vd.call(*args, **kwargs)\n",
            "  File \"/usr/local/lib/python3.10/dist-packages/pydantic/v1/decorator.py\", line 134, in call\n",
            "    return self.execute(m)\n",
            "  File \"/usr/local/lib/python3.10/dist-packages/pydantic/v1/decorator.py\", line 206, in execute\n",
            "    return self.raw_function(**d, **var_kwargs)\n",
            "  File \"/usr/local/lib/python3.10/dist-packages/linebot/v3/messaging/api/messaging_api.py\", line 6944, in reply_message\n",
            "    return self.reply_message_with_http_info(reply_message_request, **kwargs)  # noqa: E501\n",
            "  File \"/usr/local/lib/python3.10/dist-packages/pydantic/v1/decorator.py\", line 40, in wrapper_function\n",
            "    return vd.call(*args, **kwargs)\n",
            "  File \"/usr/local/lib/python3.10/dist-packages/pydantic/v1/decorator.py\", line 134, in call\n",
            "    return self.execute(m)\n",
            "  File \"/usr/local/lib/python3.10/dist-packages/pydantic/v1/decorator.py\", line 206, in execute\n",
            "    return self.raw_function(**d, **var_kwargs)\n",
            "  File \"/usr/local/lib/python3.10/dist-packages/linebot/v3/messaging/api/messaging_api.py\", line 7049, in reply_message_with_http_info\n",
            "    return self.api_client.call_api(\n",
            "  File \"/usr/local/lib/python3.10/dist-packages/linebot/v3/messaging/api_client.py\", line 407, in call_api\n",
            "    return self.__call_api(resource_path, method,\n",
            "  File \"/usr/local/lib/python3.10/dist-packages/linebot/v3/messaging/api_client.py\", line 222, in __call_api\n",
            "    raise e\n",
            "  File \"/usr/local/lib/python3.10/dist-packages/linebot/v3/messaging/api_client.py\", line 212, in __call_api\n",
            "    response_data = self.request(\n",
            "  File \"/usr/local/lib/python3.10/dist-packages/linebot/v3/messaging/api_client.py\", line 451, in request\n",
            "    return self.rest_client.post_request(url,\n",
            "  File \"/usr/local/lib/python3.10/dist-packages/linebot/v3/messaging/rest.py\", line 270, in post_request\n",
            "    return self.request(\"POST\", url,\n",
            "  File \"/usr/local/lib/python3.10/dist-packages/linebot/v3/messaging/rest.py\", line 229, in request\n",
            "    raise ApiException(http_resp=r)\n",
            "linebot.v3.messaging.exceptions.ApiException: (400)\n",
            "Reason: Bad Request\n",
            "HTTP response headers: HTTPHeaderDict({'Server': 'legy', 'Content-Type': 'application/json', 'x-content-type-options': 'nosniff', 'x-frame-options': 'DENY', 'x-line-request-id': '59752ff7-01e3-4b97-b8b5-33b964d6cf01', 'x-xss-protection': '1; mode=block', 'Content-Length': '137', 'Expires': 'Tue, 28 May 2024 08:24:54 GMT', 'Cache-Control': 'max-age=0, no-cache, no-store', 'Pragma': 'no-cache', 'Date': 'Tue, 28 May 2024 08:24:54 GMT', 'Connection': 'close'})\n",
            "HTTP response body: {\"message\":\"A message (messages[0]) in the request body is invalid\",\"details\":[{\"message\":\"Invalid package id\",\"property\":\"packageId\"}]}\n",
            "\n",
            "INFO:werkzeug:127.0.0.1 - - [28/May/2024 08:24:54] \"\u001b[35m\u001b[1mPOST / HTTP/1.1\u001b[0m\" 500 -\n"
          ]
        },
        {
          "metadata": {
            "tags": null
          },
          "name": "stdout",
          "output_type": "stream",
          "text": [
            "BODY:  {\"destination\":\"U08e238379070624ecd3a6ba91e449e19\",\"events\":[{\"type\":\"message\",\"message\":{\"type\":\"sticker\",\"id\":\"510116976078094678\",\"quoteToken\":\"3SmoSYyt32VPtFfyb1uzh7gSgi1i4vWudic28E5fPjMkR7CWn_CfjiLPnot1eF5TQ3lwcans_j1_AsbgrvzULxYqzFx919eb31I6l_uezLdEFQjcae5mz5cAR2PsRNgxxogaKwUyYImgzZlnNhNrbg\",\"stickerId\":\"180\",\"packageId\":\"3\",\"stickerResourceType\":\"STATIC\",\"keywords\":[\"Love you\",\"Love\",\"Thanks\",\"smile\",\"Swoon\",\"Happy\",\"cherrycoco\",\"Heart\",\"Beaming\",\"Lovely\",\"Aww\",\"Satisfied\"]},\"webhookEventId\":\"01HYZ4VEN4M6AS41Z3C07H0KN5\",\"deliveryContext\":{\"isRedelivery\":false},\"timestamp\":1716884715689,\"source\":{\"type\":\"user\",\"userId\":\"Uc9d6d3d031222ca0e86cebfd151d295e\"},\"replyToken\":\"7b390199d0fc4e5d82af696bdaa9527d\",\"mode\":\"active\"}]}\n"
          ]
        },
        {
          "metadata": {
            "tags": null
          },
          "name": "stderr",
          "output_type": "stream",
          "text": [
            "INFO:werkzeug:127.0.0.1 - - [28/May/2024 08:25:17] \"POST / HTTP/1.1\" 200 -\n"
          ]
        },
        {
          "metadata": {
            "tags": null
          },
          "name": "stdout",
          "output_type": "stream",
          "text": [
            "BODY:  {\"destination\":\"U08e238379070624ecd3a6ba91e449e19\",\"events\":[{\"type\":\"message\",\"message\":{\"type\":\"location\",\"id\":\"510117056272924937\",\"latitude\":25.093839,\"longitude\":121.546186,\"address\":\"111台灣台北市士林區臨溪路70號東吳大學\"},\"webhookEventId\":\"01HYZ4WWWWYXDBZWGMHV6MNRZP\",\"deliveryContext\":{\"isRedelivery\":false},\"timestamp\":1716884763341,\"source\":{\"type\":\"user\",\"userId\":\"Uc9d6d3d031222ca0e86cebfd151d295e\"},\"replyToken\":\"b3c3e6796de748389a5e9e4a3c834c83\",\"mode\":\"active\"}]}\n"
          ]
        },
        {
          "metadata": {
            "tags": null
          },
          "name": "stderr",
          "output_type": "stream",
          "text": [
            "INFO:werkzeug:127.0.0.1 - - [28/May/2024 08:26:04] \"POST / HTTP/1.1\" 200 -\n"
          ]
        }
      ],
      "source": [
        "from flask import Flask, request, abort\n",
        "\n",
        "from linebot.v3 import (\n",
        "    WebhookHandler\n",
        ")\n",
        "from linebot.v3.exceptions import (\n",
        "    InvalidSignatureError\n",
        ")\n",
        "from linebot.v3.messaging import (\n",
        "    Configuration,\n",
        "    ApiClient,\n",
        "    MessagingApi,\n",
        "    ReplyMessageRequest,\n",
        "    TextMessage,\n",
        "    StickerMessage,\n",
        "    LocationMessage\n",
        ")\n",
        "from linebot.v3.webhooks import (\n",
        "    MessageEvent,\n",
        "    TextMessageContent,\n",
        "    StickerMessageContent,\n",
        "    LocationMessageContent\n",
        ")\n",
        "\n",
        "app = Flask(__name__)\n",
        "\n",
        "configuration = Configuration(access_token=line_channel_access_token)\n",
        "handler = WebhookHandler(line_channel_secret)\n",
        "\n",
        "\n",
        "@app.route(\"/\", methods=['POST'])\n",
        "def callback():\n",
        "    # get X-Line-Signature header value\n",
        "    signature = request.headers['X-Line-Signature']\n",
        "\n",
        "    # get request body as text\n",
        "    body = request.get_data(as_text=True)\n",
        "    print(\"BODY: \", body)\n",
        "    app.logger.info(\"Request body: \" + body)\n",
        "\n",
        "    # handle webhook body\n",
        "    try:\n",
        "        handler.handle(body, signature)\n",
        "    except InvalidSignatureError:\n",
        "        app.logger.info(\"Invalid signature. Please check your channel access token/channel secret.\")\n",
        "        abort(400)\n",
        "\n",
        "    return 'OK'\n",
        "\n",
        "\n",
        "@handler.add(MessageEvent, message=TextMessageContent)\n",
        "def handle_message(event):\n",
        "    text = event.message.text\n",
        "    with ApiClient(configuration) as api_client:\n",
        "        line_bot_api = MessagingApi(api_client)\n",
        "        line_bot_api.reply_message_with_http_info(\n",
        "            ReplyMessageRequest(\n",
        "                reply_token=event.reply_token,\n",
        "                messages=[TextMessage(text=event.message.text),\n",
        "                    TextMessage(text=event.message.text)]\n",
        "            )\n",
        "        )\n",
        "\n",
        "@handler.add(MessageEvent, message=StickerMessageContent)\n",
        "def handle_sticker_message(event):\n",
        "    with ApiClient(configuration) as api_client:\n",
        "        line_bot_api = MessagingApi(api_client)\n",
        "        line_bot_api.reply_message(\n",
        "            ReplyMessageRequest(\n",
        "                reply_token=event.reply_token,\n",
        "                messages=[StickerMessage(\n",
        "                    package_id=event.message.package_id,\n",
        "                    sticker_id=event.message.sticker_id)\n",
        "                ]\n",
        "            )\n",
        "        )\n",
        "\n",
        "@handler.add(MessageEvent, message=LocationMessageContent)\n",
        "def handle_location_message(event):\n",
        "    with ApiClient(configuration) as api_client:\n",
        "        line_bot_api = MessagingApi(api_client)\n",
        "        line_bot_api.reply_message(\n",
        "            ReplyMessageRequest(\n",
        "                reply_token=event.reply_token,\n",
        "                messages=[LocationMessage(\n",
        "                    title='定位訊息',\n",
        "                    address=event.message.address,\n",
        "                    latitude=event.message.latitude,\n",
        "                    longitude=event.message.longitude\n",
        "                )]\n",
        "            )\n",
        "        )\n",
        "\n",
        "if __name__ == \"__main__\":\n",
        "    app.run(port=port)"
      ]
    }
  ],
  "metadata": {
    "kernelspec": {
      "display_name": "linebot",
      "language": "python",
      "name": "python3"
    },
    "language_info": {
      "codemirror_mode": {
        "name": "ipython",
        "version": 3
      },
      "file_extension": ".py",
      "mimetype": "text/x-python",
      "name": "python",
      "nbconvert_exporter": "python",
      "pygments_lexer": "ipython3",
      "version": "3.12.3"
    },
    "colab": {
      "provenance": []
    }
  },
  "nbformat": 4,
  "nbformat_minor": 0
}