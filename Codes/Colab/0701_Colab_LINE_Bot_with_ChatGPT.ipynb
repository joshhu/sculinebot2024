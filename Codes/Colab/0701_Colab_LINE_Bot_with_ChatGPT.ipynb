{
  "cells": [
    {
      "cell_type": "code",
      "source": [
        "!pip install Flask pyngrok line-bot-sdk requests openai --quiet"
      ],
      "metadata": {
        "id": "9Ahw4x5hMkN_"
      },
      "execution_count": null,
      "outputs": []
    },
    {
      "cell_type": "code",
      "source": [
        "from google.colab import userdata\n",
        "\n",
        "ngrok_authtoken = userdata.get('NGROK_AUTHTOKEN')\n",
        "line_channel_access_token = userdata.get('LINE_CHANNEL_ACCESS_TOKEN')\n",
        "line_channel_secret = userdata.get('LINE_CHANNEL_SECRET')\n",
        "openai_api_key = userdata.get('OPENAI_API_KEY')\n",
        "port = 5000\n",
        "print(line_channel_access_token)\n",
        "print(\"====\")\n",
        "print(line_channel_secret)"
      ],
      "metadata": {
        "colab": {
          "base_uri": "https://localhost:8080/"
        },
        "id": "9ngnvFgWMlli",
        "outputId": "2cc36587-a646-40c3-f699-9a07f3fa2887"
      },
      "execution_count": null,
      "outputs": [
        {
          "output_type": "stream",
          "name": "stdout",
          "text": [
            "zKPBoejRjkFsB4q3iXWFQwMCybXeUorzi4Vhu5fa3ag+DwGtyCEK4bNplKRajqtED3u6iztG8boNYNX5ZbGyghZvkTp1ntIW72aPG9GWgaLuvFuxn6APOy7lEYTGo/gShXR8ZEzax961ZizVchxtcgdB04t89/1O/w1cDnyilFU=\n",
            "====\n",
            "01d18cc5b05062dd6fd8e3fecafb315d\n"
          ]
        }
      ]
    },
    {
      "cell_type": "code",
      "source": [
        "import os\n",
        "from pyngrok import ngrok"
      ],
      "metadata": {
        "id": "yQSj-lVgNMm3"
      },
      "execution_count": null,
      "outputs": []
    },
    {
      "cell_type": "code",
      "source": [
        "ngrok.set_auth_token(ngrok_authtoken)\n",
        "tunnel = ngrok.connect(5000, name=\"linebot_tunnel\")\n",
        "print(tunnel.public_url)"
      ],
      "metadata": {
        "colab": {
          "base_uri": "https://localhost:8080/"
        },
        "id": "bFF8Q-4QNP2m",
        "outputId": "0405756a-3053-4e92-a5a3-fe0420058243"
      },
      "execution_count": null,
      "outputs": [
        {
          "output_type": "stream",
          "name": "stdout",
          "text": [
            "https://79a3-35-194-86-198.ngrok-free.app\n"
          ]
        }
      ]
    },
    {
      "cell_type": "code",
      "execution_count": null,
      "metadata": {
        "id": "wJY8NK_RMjEW"
      },
      "outputs": [],
      "source": [
        "from openai import OpenAI\n",
        "\n",
        "client = OpenAI(api_key=openai_api_key)\n",
        "def get_completion(prompt):\n",
        "    messages = [{\"role\": \"system\", \"content\": \"以下用繁體中文台灣用語回答\"},\n",
        "                {\"role\": \"user\", \"content\": prompt}]\n",
        "    response = client.chat.completions.create(\n",
        "        model=\"gpt-3.5-turbo\",\n",
        "        messages=messages,\n",
        "        temperature=0,\n",
        "        max_tokens=256\n",
        "\n",
        "    )\n",
        "    return response.choices[0].message.content"
      ]
    },
    {
      "cell_type": "code",
      "execution_count": null,
      "metadata": {
        "colab": {
          "base_uri": "https://localhost:8080/"
        },
        "id": "f-oeubJyMjEW",
        "outputId": "f57236a0-6842-4fa5-e8db-080e5c417c43"
      },
      "outputs": [
        {
          "output_type": "stream",
          "name": "stdout",
          "text": [
            "東吳大學是一所位於台灣台北市的知名私立大學，創立於1928年，是台灣歷史悠久的學府之一。東吳大學以人文學科為主，並擁有豐富的師資和研究資源。校園環境優美，教學設備完善，並且積極推動國際交流與合作。東吳大學在台灣享有很高的聲譽，許多知名的學者、政治人物和商業領袖都是該校的校友。\n"
          ]
        }
      ],
      "source": [
        "result = get_completion(\"簡介東吳大學\")\n",
        "print(result)"
      ]
    },
    {
      "cell_type": "code",
      "execution_count": null,
      "metadata": {
        "colab": {
          "base_uri": "https://localhost:8080/"
        },
        "id": "jdG0_hVBMjEX",
        "outputId": "a7852799-65c3-4c50-acd1-c99a9be1e11d"
      },
      "outputs": [
        {
          "output_type": "stream",
          "name": "stdout",
          "text": [
            " * Serving Flask app '__main__'\n",
            " * Debug mode: off\n"
          ]
        },
        {
          "output_type": "stream",
          "name": "stderr",
          "text": [
            "INFO:werkzeug:\u001b[31m\u001b[1mWARNING: This is a development server. Do not use it in a production deployment. Use a production WSGI server instead.\u001b[0m\n",
            " * Running on http://127.0.0.1:5000\n",
            "INFO:werkzeug:\u001b[33mPress CTRL+C to quit\u001b[0m\n",
            "INFO:werkzeug:127.0.0.1 - - [27/May/2024 18:36:16] \"POST / HTTP/1.1\" 200 -\n"
          ]
        },
        {
          "output_type": "stream",
          "name": "stdout",
          "text": [
            "BODY:  {\"destination\":\"U08e238379070624ecd3a6ba91e449e19\",\"events\":[]}\n",
            "BODY:  {\"destination\":\"U08e238379070624ecd3a6ba91e449e19\",\"events\":[{\"type\":\"message\",\"message\":{\"type\":\"text\",\"id\":\"510033541321719937\",\"quoteToken\":\"OpDNv0WvnDQpgrtfpIErmLFqOKzP_6vAcIRNBKqthw6QeSIWp64GEOIm7mVcQS6WhywZ7PI6PShtJ3uVSJd1Dk56Uhvbei49c0gtiff9eO-JZQ-FjQRi0wEdSihixMfOcuS7Tp1tkyx3NYmgGpzK6w\",\"text\":\"AI 東吳大學\"},\"webhookEventId\":\"01HYXNDRRCMQSNH8REMCXQK8X0\",\"deliveryContext\":{\"isRedelivery\":false},\"timestamp\":1716834984557,\"source\":{\"type\":\"user\",\"userId\":\"Uc9d6d3d031222ca0e86cebfd151d295e\"},\"replyToken\":\"6fefdaeac1644b639584b8f7ef429cf6\",\"mode\":\"active\"}]}\n"
          ]
        },
        {
          "output_type": "stream",
          "name": "stderr",
          "text": [
            "INFO:werkzeug:127.0.0.1 - - [27/May/2024 18:36:28] \"POST / HTTP/1.1\" 200 -\n"
          ]
        }
      ],
      "source": [
        "from flask import Flask, request, abort\n",
        "\n",
        "from linebot.v3 import (\n",
        "    WebhookHandler\n",
        ")\n",
        "from linebot.v3.exceptions import (\n",
        "    InvalidSignatureError\n",
        ")\n",
        "from linebot.v3.messaging import (\n",
        "    Configuration,\n",
        "    ApiClient,\n",
        "    MessagingApi,\n",
        "    ReplyMessageRequest,\n",
        "    TextMessage,\n",
        "    StickerMessage,\n",
        "    LocationMessage\n",
        ")\n",
        "from linebot.v3.webhooks import (\n",
        "    MessageEvent,\n",
        "    TextMessageContent,\n",
        "    StickerMessageContent,\n",
        "    LocationMessageContent\n",
        ")\n",
        "\n",
        "app = Flask(__name__)\n",
        "\n",
        "configuration = Configuration(access_token=line_channel_access_token)\n",
        "handler = WebhookHandler(line_channel_secret)\n",
        "\n",
        "\n",
        "@app.route(\"/\", methods=['POST'])\n",
        "def callback():\n",
        "    # get X-Line-Signature header value\n",
        "    signature = request.headers['X-Line-Signature']\n",
        "\n",
        "    # get request body as text\n",
        "    body = request.get_data(as_text=True)\n",
        "    print(\"BODY: \", body)\n",
        "    app.logger.info(\"Request body: \" + body)\n",
        "\n",
        "    # handle webhook body\n",
        "    try:\n",
        "        handler.handle(body, signature)\n",
        "    except InvalidSignatureError:\n",
        "        app.logger.info(\"Invalid signature. Please check your channel access token/channel secret.\")\n",
        "        abort(400)\n",
        "\n",
        "    return 'OK'\n",
        "\n",
        "\n",
        "@handler.add(MessageEvent, message=TextMessageContent)\n",
        "def handle_message(event):\n",
        "    text = event.message.text\n",
        "    with ApiClient(configuration) as api_client:\n",
        "        line_bot_api = MessagingApi(api_client)\n",
        "        if text.startswith('AI '):\n",
        "            prompt = text[3:]\n",
        "            reply_text = get_completion(prompt)\n",
        "            line_bot_api.reply_message_with_http_info(\n",
        "                ReplyMessageRequest(\n",
        "                    reply_token=event.reply_token,\n",
        "                    messages=[TextMessage(text=reply_text)]\n",
        "                )\n",
        "            )\n",
        "\n",
        "        else:\n",
        "            line_bot_api.reply_message_with_http_info(\n",
        "                ReplyMessageRequest(\n",
        "                    reply_token=event.reply_token,\n",
        "                    messages=[TextMessage(text=event.message.text),\n",
        "                        TextMessage(text=event.message.text)]\n",
        "                )\n",
        "            )\n",
        "\n",
        "\n",
        "@handler.add(MessageEvent, message=StickerMessageContent)\n",
        "def handle_sticker_message(event):\n",
        "    with ApiClient(configuration) as api_client:\n",
        "        line_bot_api = MessagingApi(api_client)\n",
        "        line_bot_api.reply_message(\n",
        "            ReplyMessageRequest(\n",
        "                reply_token=event.reply_token,\n",
        "                messages=[StickerMessage(\n",
        "                    package_id=event.message.package_id,\n",
        "                    sticker_id=event.message.sticker_id)\n",
        "                ]\n",
        "            )\n",
        "        )\n",
        "\n",
        "@handler.add(MessageEvent, message=LocationMessageContent)\n",
        "def handle_location_message(event):\n",
        "    with ApiClient(configuration) as api_client:\n",
        "        line_bot_api = MessagingApi(api_client)\n",
        "        line_bot_api.reply_message(\n",
        "            ReplyMessageRequest(\n",
        "                reply_token=event.reply_token,\n",
        "                messages=[LocationMessage(\n",
        "                    title='定位訊息',\n",
        "                    address=event.message.address,\n",
        "                    latitude=event.message.latitude,\n",
        "                    longitude=event.message.longitude\n",
        "                )]\n",
        "            )\n",
        "        )\n",
        "\n",
        "if __name__ == \"__main__\":\n",
        "    app.run(port=port)"
      ]
    }
  ],
  "metadata": {
    "kernelspec": {
      "display_name": "linebot",
      "language": "python",
      "name": "python3"
    },
    "language_info": {
      "codemirror_mode": {
        "name": "ipython",
        "version": 3
      },
      "file_extension": ".py",
      "mimetype": "text/x-python",
      "name": "python",
      "nbconvert_exporter": "python",
      "pygments_lexer": "ipython3",
      "version": "3.12.3"
    },
    "colab": {
      "provenance": []
    }
  },
  "nbformat": 4,
  "nbformat_minor": 0
}