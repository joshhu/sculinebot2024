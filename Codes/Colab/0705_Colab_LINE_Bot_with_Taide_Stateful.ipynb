{
  "cells": [
    {
      "cell_type": "code",
      "source": [
        "!pip install Flask pyngrok line-bot-sdk requests openai --quiet"
      ],
      "metadata": {
        "id": "9Ahw4x5hMkN_"
      },
      "execution_count": 9,
      "outputs": []
    },
    {
      "cell_type": "code",
      "source": [
        "from google.colab import userdata\n",
        "\n",
        "ngrok_authtoken = userdata.get('NGROK_AUTHTOKEN')\n",
        "line_channel_access_token = userdata.get('LINE_CHANNEL_ACCESS_TOKEN')\n",
        "line_channel_secret = userdata.get('LINE_CHANNEL_SECRET')\n",
        "openai_api_key = userdata.get('OPENAI_API_KEY')\n",
        "port = 5000"
      ],
      "metadata": {
        "id": "9ngnvFgWMlli"
      },
      "execution_count": 10,
      "outputs": []
    },
    {
      "cell_type": "code",
      "source": [
        "import os\n",
        "from pyngrok import ngrok"
      ],
      "metadata": {
        "id": "yQSj-lVgNMm3"
      },
      "execution_count": 11,
      "outputs": []
    },
    {
      "cell_type": "code",
      "source": [
        "ngrok.set_auth_token(ngrok_authtoken)\n",
        "tunnel = ngrok.connect(5000, name=\"linebot_tunnel\")\n",
        "print(tunnel.public_url)"
      ],
      "metadata": {
        "colab": {
          "base_uri": "https://localhost:8080/"
        },
        "id": "bFF8Q-4QNP2m",
        "outputId": "b040f233-9211-4516-aa83-f3ffec299462"
      },
      "execution_count": 12,
      "outputs": [
        {
          "output_type": "stream",
          "name": "stdout",
          "text": [
            "https://a8ce-34-23-85-150.ngrok-free.app\n"
          ]
        }
      ]
    },
    {
      "cell_type": "code",
      "execution_count": 13,
      "metadata": {
        "id": "wJY8NK_RMjEW"
      },
      "outputs": [],
      "source": [
        "from openai import OpenAI\n",
        "\n",
        "client = OpenAI(\n",
        "    base_url='http://120.105.97.239:11434/v1/',\n",
        "\n",
        "    api_key='ollama',\n",
        ")\n",
        "def get_completion(prompt):\n",
        "    messages=[\n",
        "        {\n",
        "            'role': 'system',\n",
        "            'content': '你是一個說繁體中文的助理，只會用台灣用語，不會用中國用語',\n",
        "            'role': 'user',\n",
        "            'content': prompt,\n",
        "\n",
        "        }\n",
        "    ]\n",
        "    response = client.chat.completions.create(\n",
        "        model='jcai/llama3-taide-lx-8b-chat-alpha1:f16',\n",
        "        messages=messages,\n",
        "\n",
        "    )\n",
        "    return response.choices[0].message.content\n"
      ]
    },
    {
      "cell_type": "code",
      "execution_count": 14,
      "metadata": {
        "colab": {
          "base_uri": "https://localhost:8080/"
        },
        "id": "f-oeubJyMjEW",
        "outputId": "791a4e52-8d14-448e-ba3b-49c2c208075c"
      },
      "outputs": [
        {
          "output_type": "stream",
          "name": "stdout",
          "text": [
            "東吳大學，亦稱為Soochow University，創立於1900年，為台灣歷史最悠久的私立大學之一，也是全球第24所由基督教組織創辦的大學。學校位於台灣新北市士林區及台北市中山區，以自由、平等、人文、科學為校訓。\n",
            "\n",
            "該校最初名為「東吳大學堂」，由美國基督教會派駐中國的差會「美北長老教會」所創辦，目標是提供高等教育給中國年輕知識份子。1910年遷至現址，並在1925年更名為東吳大學。\n",
            "\n",
            "東吳大學以商學院及法學院最為著名，在國際上獲得肯定，此外，也設有文理學院、管理學院、法律學院、社會科學院等學院，提供多元化的學系與研究所。該校在學術研究方面表現卓越，在國內外均獲得許多獎項與肯定。\n",
            "\n",
            "東吳大學以其美麗的校園著稱，融合了中國傳統建築風格與現代建築設計，其中最具代表性的地標，就是位於淡水河畔、由知名建築師貝聿銘設計的大忠教堂。校內還有許多歷史悠久的建築，如舊圖書館、大禮堂等，見證了學校的成長與演變。\n",
            "\n",
            "東吳大學以自由、平等為校訓，在教學與研究上秉持著開放、包容的態度，在國內外均享有盛名。該校不僅培育出許多傑出的學術界人士，也孕育了眾多成功企業家與社會賢達，是台灣高等教育體系中，深具影響力的一所大學。\n"
          ]
        }
      ],
      "source": [
        "result = get_completion(\"簡介東吳大學\")\n",
        "print(result)"
      ]
    },
    {
      "cell_type": "code",
      "source": [
        "messages = []"
      ],
      "metadata": {
        "id": "VaXSJZGHUR2i"
      },
      "execution_count": 15,
      "outputs": []
    },
    {
      "cell_type": "code",
      "execution_count": 16,
      "metadata": {
        "colab": {
          "base_uri": "https://localhost:8080/"
        },
        "id": "jdG0_hVBMjEX",
        "outputId": "b2d16488-6ee4-47ba-b104-28b3c3383692"
      },
      "outputs": [
        {
          "output_type": "stream",
          "name": "stdout",
          "text": [
            " * Serving Flask app '__main__'\n",
            " * Debug mode: off\n"
          ]
        },
        {
          "output_type": "stream",
          "name": "stderr",
          "text": [
            "INFO:werkzeug:\u001b[31m\u001b[1mWARNING: This is a development server. Do not use it in a production deployment. Use a production WSGI server instead.\u001b[0m\n",
            " * Running on http://127.0.0.1:5000\n",
            "INFO:werkzeug:\u001b[33mPress CTRL+C to quit\u001b[0m\n",
            "INFO:werkzeug:127.0.0.1 - - [28/May/2024 04:03:08] \"POST / HTTP/1.1\" 200 -\n"
          ]
        },
        {
          "output_type": "stream",
          "name": "stdout",
          "text": [
            "BODY:  {\"destination\":\"U08e238379070624ecd3a6ba91e449e19\",\"events\":[]}\n",
            "BODY:  {\"destination\":\"U08e238379070624ecd3a6ba91e449e19\",\"events\":[{\"type\":\"message\",\"message\":{\"type\":\"text\",\"id\":\"510090608518627717\",\"quoteToken\":\"WEIlxjN-cWOcX7YwbkmVODbLTQaMfR54u1E-7sfSCeORBc458KOw2mkTQJp3QyMJpHxyr9ecg854le7upCTlrf_57V0eYpbRd4F_iFQkXA9pQ2TB-65US_Hhpq3_FIg-NEOY85WAljwAaEFY6r4FNg\",\"text\":\"AI 簡介東吳大學\"},\"webhookEventId\":\"01HYYNVTEN9MKRV68N4Q7G9E28\",\"deliveryContext\":{\"isRedelivery\":false},\"timestamp\":1716868999386,\"source\":{\"type\":\"user\",\"userId\":\"Uc9d6d3d031222ca0e86cebfd151d295e\"},\"replyToken\":\"017d080990ef439b86311dc418c20831\",\"mode\":\"active\"}]}\n"
          ]
        },
        {
          "output_type": "stream",
          "name": "stderr",
          "text": [
            "INFO:werkzeug:127.0.0.1 - - [28/May/2024 04:03:35] \"POST / HTTP/1.1\" 200 -\n"
          ]
        },
        {
          "output_type": "stream",
          "name": "stdout",
          "text": [
            "BODY:  {\"destination\":\"U08e238379070624ecd3a6ba91e449e19\",\"events\":[{\"type\":\"message\",\"message\":{\"type\":\"text\",\"id\":\"510090666383245522\",\"quoteToken\":\"FLszvZrGkejWQo4SCNX0wloDLABF0HP7ydx6vQXLj4JO1FFpDuFj-_YtOdvbkZmzTPGR0hdItzuw4THkDeApN_iJ--xYF_mQ_RpBsad0o3owrEQAjnG3KSL7-SgPDBW6OsP4YPqSw5kTn12LfQr61w\",\"text\":\"AI 那城區部地址呢？\"},\"webhookEventId\":\"01HYYNWW8AGWA8E9GX5X70G83J\",\"deliveryContext\":{\"isRedelivery\":false},\"timestamp\":1716869033741,\"source\":{\"type\":\"user\",\"userId\":\"Uc9d6d3d031222ca0e86cebfd151d295e\"},\"replyToken\":\"9ad9a7410ef54179beedef2b89657ce6\",\"mode\":\"active\"}]}\n"
          ]
        },
        {
          "output_type": "stream",
          "name": "stderr",
          "text": [
            "INFO:werkzeug:127.0.0.1 - - [28/May/2024 04:04:00] \"POST / HTTP/1.1\" 200 -\n",
            "WARNING:pyngrok.process.ngrok:t=2024-05-28T04:04:10+0000 lvl=warn msg=\"Stopping forwarder\" name=linebot_tunnel acceptErr=\"failed to accept connection: Listener closed\"\n"
          ]
        }
      ],
      "source": [
        "from flask import Flask, request, abort\n",
        "\n",
        "from linebot.v3 import (\n",
        "    WebhookHandler\n",
        ")\n",
        "from linebot.v3.exceptions import (\n",
        "    InvalidSignatureError\n",
        ")\n",
        "from linebot.v3.messaging import (\n",
        "    Configuration,\n",
        "    ApiClient,\n",
        "    MessagingApi,\n",
        "    ReplyMessageRequest,\n",
        "    TextMessage,\n",
        "    StickerMessage,\n",
        "    LocationMessage\n",
        ")\n",
        "from linebot.v3.webhooks import (\n",
        "    MessageEvent,\n",
        "    TextMessageContent,\n",
        "    StickerMessageContent,\n",
        "    LocationMessageContent\n",
        ")\n",
        "\n",
        "app = Flask(__name__)\n",
        "\n",
        "configuration = Configuration(access_token=line_channel_access_token)\n",
        "handler = WebhookHandler(line_channel_secret)\n",
        "\n",
        "\n",
        "@app.route(\"/\", methods=['POST'])\n",
        "def callback():\n",
        "    # get X-Line-Signature header value\n",
        "    signature = request.headers['X-Line-Signature']\n",
        "\n",
        "    # get request body as text\n",
        "    body = request.get_data(as_text=True)\n",
        "    print(\"BODY: \", body)\n",
        "    app.logger.info(\"Request body: \" + body)\n",
        "\n",
        "    # handle webhook body\n",
        "    try:\n",
        "        handler.handle(body, signature)\n",
        "    except InvalidSignatureError:\n",
        "        app.logger.info(\"Invalid signature. Please check your channel access token/channel secret.\")\n",
        "        abort(400)\n",
        "\n",
        "    return 'OK'\n",
        "\n",
        "\n",
        "@handler.add(MessageEvent, message=TextMessageContent)\n",
        "def handle_message(event):\n",
        "    text = event.message.text\n",
        "    with ApiClient(configuration) as api_client:\n",
        "        line_bot_api = MessagingApi(api_client)\n",
        "        if text.startswith('AI '):\n",
        "            prompt = text[3:]\n",
        "            messages.append(prompt)\n",
        "            prompts = \" \".join(messages)\n",
        "            reply_text = get_completion(prompts)\n",
        "            line_bot_api.reply_message_with_http_info(\n",
        "                ReplyMessageRequest(\n",
        "                    reply_token=event.reply_token,\n",
        "                    messages=[TextMessage(text=reply_text)]\n",
        "                )\n",
        "            )\n",
        "            messages.append(reply_text)\n",
        "        else:\n",
        "            line_bot_api.reply_message_with_http_info(\n",
        "                ReplyMessageRequest(\n",
        "                    reply_token=event.reply_token,\n",
        "                    messages=[TextMessage(text=event.message.text),\n",
        "                        TextMessage(text=event.message.text)]\n",
        "                )\n",
        "            )\n",
        "\n",
        "\n",
        "@handler.add(MessageEvent, message=StickerMessageContent)\n",
        "def handle_sticker_message(event):\n",
        "    with ApiClient(configuration) as api_client:\n",
        "        line_bot_api = MessagingApi(api_client)\n",
        "        line_bot_api.reply_message(\n",
        "            ReplyMessageRequest(\n",
        "                reply_token=event.reply_token,\n",
        "                messages=[StickerMessage(\n",
        "                    package_id=event.message.package_id,\n",
        "                    sticker_id=event.message.sticker_id)\n",
        "                ]\n",
        "            )\n",
        "        )\n",
        "\n",
        "@handler.add(MessageEvent, message=LocationMessageContent)\n",
        "def handle_location_message(event):\n",
        "    with ApiClient(configuration) as api_client:\n",
        "        line_bot_api = MessagingApi(api_client)\n",
        "        line_bot_api.reply_message(\n",
        "            ReplyMessageRequest(\n",
        "                reply_token=event.reply_token,\n",
        "                messages=[LocationMessage(\n",
        "                    title='定位訊息',\n",
        "                    address=event.message.address,\n",
        "                    latitude=event.message.latitude,\n",
        "                    longitude=event.message.longitude\n",
        "                )]\n",
        "            )\n",
        "        )\n",
        "\n",
        "if __name__ == \"__main__\":\n",
        "    app.run(port=port)"
      ]
    }
  ],
  "metadata": {
    "kernelspec": {
      "display_name": "linebot",
      "language": "python",
      "name": "python3"
    },
    "language_info": {
      "codemirror_mode": {
        "name": "ipython",
        "version": 3
      },
      "file_extension": ".py",
      "mimetype": "text/x-python",
      "name": "python",
      "nbconvert_exporter": "python",
      "pygments_lexer": "ipython3",
      "version": "3.12.3"
    },
    "colab": {
      "provenance": []
    }
  },
  "nbformat": 4,
  "nbformat_minor": 0
}