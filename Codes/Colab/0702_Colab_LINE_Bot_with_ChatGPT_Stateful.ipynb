{
  "cells": [
    {
      "cell_type": "code",
      "source": [
        "!pip install Flask pyngrok line-bot-sdk requests openai --quiet"
      ],
      "metadata": {
        "id": "9Ahw4x5hMkN_",
        "colab": {
          "base_uri": "https://localhost:8080/"
        },
        "outputId": "06188eac-6399-4eb8-851d-5f52a8eeed5f"
      },
      "execution_count": 1,
      "outputs": [
        {
          "output_type": "stream",
          "name": "stdout",
          "text": [
            "\u001b[2K     \u001b[90m━━━━━━━━━━━━━━━━━━━━━━━━━━━━━━━━━━━━━━━━\u001b[0m \u001b[32m758.4/758.4 kB\u001b[0m \u001b[31m12.7 MB/s\u001b[0m eta \u001b[36m0:00:00\u001b[0m\n",
            "\u001b[2K     \u001b[90m━━━━━━━━━━━━━━━━━━━━━━━━━━━━━━━━━━━━━━━━\u001b[0m \u001b[32m320.6/320.6 kB\u001b[0m \u001b[31m19.1 MB/s\u001b[0m eta \u001b[36m0:00:00\u001b[0m\n",
            "\u001b[2K     \u001b[90m━━━━━━━━━━━━━━━━━━━━━━━━━━━━━━━━━━━━━━━━\u001b[0m \u001b[32m137.6/137.6 kB\u001b[0m \u001b[31m9.8 MB/s\u001b[0m eta \u001b[36m0:00:00\u001b[0m\n",
            "\u001b[2K     \u001b[90m━━━━━━━━━━━━━━━━━━━━━━━━━━━━━━━━━━━━━━━━\u001b[0m \u001b[32m75.6/75.6 kB\u001b[0m \u001b[31m5.1 MB/s\u001b[0m eta \u001b[36m0:00:00\u001b[0m\n",
            "\u001b[2K     \u001b[90m━━━━━━━━━━━━━━━━━━━━━━━━━━━━━━━━━━━━━━━━\u001b[0m \u001b[32m77.9/77.9 kB\u001b[0m \u001b[31m2.7 MB/s\u001b[0m eta \u001b[36m0:00:00\u001b[0m\n",
            "\u001b[2K     \u001b[90m━━━━━━━━━━━━━━━━━━━━━━━━━━━━━━━━━━━━━━━━\u001b[0m \u001b[32m58.3/58.3 kB\u001b[0m \u001b[31m1.2 MB/s\u001b[0m eta \u001b[36m0:00:00\u001b[0m\n",
            "\u001b[?25h"
          ]
        }
      ]
    },
    {
      "cell_type": "code",
      "source": [
        "from google.colab import userdata\n",
        "\n",
        "ngrok_authtoken = userdata.get('NGROK_AUTHTOKEN')\n",
        "line_channel_access_token = userdata.get('LINE_CHANNEL_ACCESS_TOKEN')\n",
        "line_channel_secret = userdata.get('LINE_CHANNEL_SECRET')\n",
        "openai_api_key = userdata.get('OPENAI_API_KEY')\n",
        "port = 5000\n",
        "print(line_channel_access_token)\n",
        "print(\"====\")\n",
        "print(line_channel_secret)"
      ],
      "metadata": {
        "colab": {
          "base_uri": "https://localhost:8080/"
        },
        "id": "9ngnvFgWMlli",
        "outputId": "2937e7d2-6aa7-4c80-a300-24b392bc0765"
      },
      "execution_count": 2,
      "outputs": [
        {
          "output_type": "stream",
          "name": "stdout",
          "text": [
            "zKPBoejRjkFsB4q3iXWFQwMCybXeUorzi4Vhu5fa3ag+DwGtyCEK4bNplKRajqtED3u6iztG8boNYNX5ZbGyghZvkTp1ntIW72aPG9GWgaLuvFuxn6APOy7lEYTGo/gShXR8ZEzax961ZizVchxtcgdB04t89/1O/w1cDnyilFU=\n",
            "====\n",
            "01d18cc5b05062dd6fd8e3fecafb315d\n"
          ]
        }
      ]
    },
    {
      "cell_type": "code",
      "source": [
        "import os\n",
        "from pyngrok import ngrok"
      ],
      "metadata": {
        "id": "yQSj-lVgNMm3"
      },
      "execution_count": 3,
      "outputs": []
    },
    {
      "cell_type": "code",
      "source": [
        "ngrok.set_auth_token(ngrok_authtoken)\n",
        "tunnel = ngrok.connect(5000, name=\"linebot_tunnel\")\n",
        "print(tunnel.public_url)"
      ],
      "metadata": {
        "colab": {
          "base_uri": "https://localhost:8080/"
        },
        "id": "bFF8Q-4QNP2m",
        "outputId": "dff25556-f74c-403d-d86a-d4b4e1584c0a"
      },
      "execution_count": 4,
      "outputs": [
        {
          "output_type": "stream",
          "name": "stdout",
          "text": [
            "https://397e-34-23-85-150.ngrok-free.app\n"
          ]
        }
      ]
    },
    {
      "cell_type": "code",
      "execution_count": 5,
      "metadata": {
        "id": "wJY8NK_RMjEW"
      },
      "outputs": [],
      "source": [
        "from openai import OpenAI\n",
        "\n",
        "client = OpenAI(api_key=openai_api_key)\n",
        "def get_completion(prompt):\n",
        "    messages = [{\"role\": \"system\", \"content\": \"以下用繁體中文台灣用語回答\"},\n",
        "                {\"role\": \"user\", \"content\": prompt}]\n",
        "    response = client.chat.completions.create(\n",
        "        model=\"gpt-3.5-turbo\",\n",
        "        messages=messages,\n",
        "        temperature=0,\n",
        "        max_tokens=256\n",
        "\n",
        "    )\n",
        "    return response.choices[0].message.content"
      ]
    },
    {
      "cell_type": "code",
      "execution_count": 6,
      "metadata": {
        "colab": {
          "base_uri": "https://localhost:8080/"
        },
        "id": "f-oeubJyMjEW",
        "outputId": "10282754-a87f-4366-bd62-abdcaa0c1104"
      },
      "outputs": [
        {
          "output_type": "stream",
          "name": "stdout",
          "text": [
            "東吳大學是一所位於台灣台北市的知名私立大學，創立於1928年，是台灣歷史悠久的學府之一。東吳大學以人文學科為主，並擁有豐富的師資和研究資源。校園環境優美，教學設備完善，是許多學生夢寐以求的就讀學校之一。該校提供多元的學士、碩士和博士學位課程，並致力於培養學生的專業知識和實務能力。東吳大學也積極推動國際交流與合作，為學生提供豐富的國際\n"
          ]
        }
      ],
      "source": [
        "result = get_completion(\"簡介東吳大學\")\n",
        "print(result)"
      ]
    },
    {
      "cell_type": "code",
      "source": [
        "messages = []"
      ],
      "metadata": {
        "id": "VaXSJZGHUR2i"
      },
      "execution_count": 7,
      "outputs": []
    },
    {
      "cell_type": "code",
      "execution_count": 8,
      "metadata": {
        "colab": {
          "base_uri": "https://localhost:8080/"
        },
        "id": "jdG0_hVBMjEX",
        "outputId": "27babad8-9bbf-43da-83cf-0f06df459b7d"
      },
      "outputs": [
        {
          "output_type": "stream",
          "name": "stdout",
          "text": [
            " * Serving Flask app '__main__'\n",
            " * Debug mode: off\n"
          ]
        },
        {
          "output_type": "stream",
          "name": "stderr",
          "text": [
            "INFO:werkzeug:\u001b[31m\u001b[1mWARNING: This is a development server. Do not use it in a production deployment. Use a production WSGI server instead.\u001b[0m\n",
            " * Running on http://127.0.0.1:5000\n",
            "INFO:werkzeug:\u001b[33mPress CTRL+C to quit\u001b[0m\n",
            "INFO:werkzeug:127.0.0.1 - - [28/May/2024 03:53:11] \"POST / HTTP/1.1\" 200 -\n"
          ]
        },
        {
          "output_type": "stream",
          "name": "stdout",
          "text": [
            "BODY:  {\"destination\":\"U08e238379070624ecd3a6ba91e449e19\",\"events\":[]}\n",
            "BODY:  {\"destination\":\"U08e238379070624ecd3a6ba91e449e19\",\"events\":[{\"type\":\"message\",\"message\":{\"type\":\"text\",\"id\":\"510089614233960791\",\"quoteToken\":\"8Y2jKbc5NbQAGIiP-Uy8hNbENdbsd7fjKBhDLbctXPknECH12voEntx9BmtpTCULxiNOyUdgKcPNxJfMO2kzjbvj8p2YiSAk3sG8z_6ZspEzLH9oM_Ogb8HrSn2-imuVhhUkbg3a5nKgYpla2RoPoQ\",\"text\":\"AI 簡介東吳大學\"},\"webhookEventId\":\"01HYYN9QY0T48E3G12T5M8MJ7R\",\"deliveryContext\":{\"isRedelivery\":false},\"timestamp\":1716868406773,\"source\":{\"type\":\"user\",\"userId\":\"Uc9d6d3d031222ca0e86cebfd151d295e\"},\"replyToken\":\"6d62d0240f9f46749b538e64c6d9429a\",\"mode\":\"active\"}]}\n"
          ]
        },
        {
          "output_type": "stream",
          "name": "stderr",
          "text": [
            "INFO:werkzeug:127.0.0.1 - - [28/May/2024 03:53:32] \"POST / HTTP/1.1\" 200 -\n"
          ]
        },
        {
          "output_type": "stream",
          "name": "stdout",
          "text": [
            "BODY:  {\"destination\":\"U08e238379070624ecd3a6ba91e449e19\",\"events\":[{\"type\":\"message\",\"message\":{\"type\":\"text\",\"id\":\"510089637185192515\",\"quoteToken\":\"scoZ8X306sc6OgJS0d965DM6sugPjIZiil1cFg4EI-HAAJ4CqwjzRj9m-WomBGZkkcmNXFh1RIaSJKR4_CBFJO4UinTiw_IlxxVcmV5FLi5q1WPL8_19IWyqYGpKTP4VXjOH5Kz1u-12GU3W4sJqxA\",\"text\":\"AI 那城區部地址呢？\"},\"webhookEventId\":\"01HYYNA4V2FSC6RZB0J9VN5P6M\",\"deliveryContext\":{\"isRedelivery\":false},\"timestamp\":1716868420343,\"source\":{\"type\":\"user\",\"userId\":\"Uc9d6d3d031222ca0e86cebfd151d295e\"},\"replyToken\":\"6acff7a4c24c484d85eb9aa1b932f618\",\"mode\":\"active\"}]}\n"
          ]
        },
        {
          "output_type": "stream",
          "name": "stderr",
          "text": [
            "INFO:werkzeug:127.0.0.1 - - [28/May/2024 03:53:42] \"POST / HTTP/1.1\" 200 -\n"
          ]
        },
        {
          "output_type": "stream",
          "name": "stdout",
          "text": [
            "BODY:  {\"destination\":\"U08e238379070624ecd3a6ba91e449e19\",\"events\":[{\"type\":\"message\",\"message\":{\"type\":\"text\",\"id\":\"510089704142799045\",\"quoteToken\":\"WYSshO2vLH-Qg3jS_YOOZxXPP1czsI7bs4wfOkuEUM4G45a56snyfpmE9GHT5SLQARqEy5pvSnhBFOjp253rd_fxvnkBYOaOQyEXe4rDgOrM5ghzuacZcn35I7u3-oBNAPe1fQR0r7JBaj-k3-8kxA\",\"text\":\"AI 有什麼傑出校友？\"},\"webhookEventId\":\"01HYYNBCB0WP90FF69ERSFYTAG\",\"deliveryContext\":{\"isRedelivery\":false},\"timestamp\":1716868460388,\"source\":{\"type\":\"user\",\"userId\":\"Uc9d6d3d031222ca0e86cebfd151d295e\"},\"replyToken\":\"ee125c5280d04f01819f1fef3bea72ec\",\"mode\":\"active\"}]}\n"
          ]
        },
        {
          "output_type": "stream",
          "name": "stderr",
          "text": [
            "INFO:werkzeug:127.0.0.1 - - [28/May/2024 03:54:26] \"POST / HTTP/1.1\" 200 -\n"
          ]
        }
      ],
      "source": [
        "from flask import Flask, request, abort\n",
        "\n",
        "from linebot.v3 import (\n",
        "    WebhookHandler\n",
        ")\n",
        "from linebot.v3.exceptions import (\n",
        "    InvalidSignatureError\n",
        ")\n",
        "from linebot.v3.messaging import (\n",
        "    Configuration,\n",
        "    ApiClient,\n",
        "    MessagingApi,\n",
        "    ReplyMessageRequest,\n",
        "    TextMessage,\n",
        "    StickerMessage,\n",
        "    LocationMessage\n",
        ")\n",
        "from linebot.v3.webhooks import (\n",
        "    MessageEvent,\n",
        "    TextMessageContent,\n",
        "    StickerMessageContent,\n",
        "    LocationMessageContent\n",
        ")\n",
        "\n",
        "app = Flask(__name__)\n",
        "\n",
        "configuration = Configuration(access_token=line_channel_access_token)\n",
        "handler = WebhookHandler(line_channel_secret)\n",
        "\n",
        "\n",
        "@app.route(\"/\", methods=['POST'])\n",
        "def callback():\n",
        "    # get X-Line-Signature header value\n",
        "    signature = request.headers['X-Line-Signature']\n",
        "\n",
        "    # get request body as text\n",
        "    body = request.get_data(as_text=True)\n",
        "    print(\"BODY: \", body)\n",
        "    app.logger.info(\"Request body: \" + body)\n",
        "\n",
        "    # handle webhook body\n",
        "    try:\n",
        "        handler.handle(body, signature)\n",
        "    except InvalidSignatureError:\n",
        "        app.logger.info(\"Invalid signature. Please check your channel access token/channel secret.\")\n",
        "        abort(400)\n",
        "\n",
        "    return 'OK'\n",
        "\n",
        "\n",
        "@handler.add(MessageEvent, message=TextMessageContent)\n",
        "def handle_message(event):\n",
        "    text = event.message.text\n",
        "    with ApiClient(configuration) as api_client:\n",
        "        line_bot_api = MessagingApi(api_client)\n",
        "        if text.startswith('AI '):\n",
        "            prompt = text[3:]\n",
        "            messages.append(prompt)\n",
        "            prompts = \" \".join(messages)\n",
        "            reply_text = get_completion(prompts)\n",
        "            line_bot_api.reply_message_with_http_info(\n",
        "                ReplyMessageRequest(\n",
        "                    reply_token=event.reply_token,\n",
        "                    messages=[TextMessage(text=reply_text)]\n",
        "                )\n",
        "            )\n",
        "            messages.append(reply_text)\n",
        "        else:\n",
        "            line_bot_api.reply_message_with_http_info(\n",
        "                ReplyMessageRequest(\n",
        "                    reply_token=event.reply_token,\n",
        "                    messages=[TextMessage(text=event.message.text),\n",
        "                        TextMessage(text=event.message.text)]\n",
        "                )\n",
        "            )\n",
        "\n",
        "\n",
        "@handler.add(MessageEvent, message=StickerMessageContent)\n",
        "def handle_sticker_message(event):\n",
        "    with ApiClient(configuration) as api_client:\n",
        "        line_bot_api = MessagingApi(api_client)\n",
        "        line_bot_api.reply_message(\n",
        "            ReplyMessageRequest(\n",
        "                reply_token=event.reply_token,\n",
        "                messages=[StickerMessage(\n",
        "                    package_id=event.message.package_id,\n",
        "                    sticker_id=event.message.sticker_id)\n",
        "                ]\n",
        "            )\n",
        "        )\n",
        "\n",
        "@handler.add(MessageEvent, message=LocationMessageContent)\n",
        "def handle_location_message(event):\n",
        "    with ApiClient(configuration) as api_client:\n",
        "        line_bot_api = MessagingApi(api_client)\n",
        "        line_bot_api.reply_message(\n",
        "            ReplyMessageRequest(\n",
        "                reply_token=event.reply_token,\n",
        "                messages=[LocationMessage(\n",
        "                    title='定位訊息',\n",
        "                    address=event.message.address,\n",
        "                    latitude=event.message.latitude,\n",
        "                    longitude=event.message.longitude\n",
        "                )]\n",
        "            )\n",
        "        )\n",
        "\n",
        "if __name__ == \"__main__\":\n",
        "    app.run(port=port)"
      ]
    }
  ],
  "metadata": {
    "kernelspec": {
      "display_name": "linebot",
      "language": "python",
      "name": "python3"
    },
    "language_info": {
      "codemirror_mode": {
        "name": "ipython",
        "version": 3
      },
      "file_extension": ".py",
      "mimetype": "text/x-python",
      "name": "python",
      "nbconvert_exporter": "python",
      "pygments_lexer": "ipython3",
      "version": "3.12.3"
    },
    "colab": {
      "provenance": []
    }
  },
  "nbformat": 4,
  "nbformat_minor": 0
}