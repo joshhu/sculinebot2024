{
  "cells": [
    {
      "cell_type": "code",
      "execution_count": 1,
      "metadata": {
        "colab": {
          "base_uri": "https://localhost:8080/"
        },
        "id": "unzqzbjN1ffY",
        "outputId": "aba6c13b-05b7-4d07-f032-4042a5bb51f0"
      },
      "outputs": [
        {
          "output_type": "stream",
          "name": "stdout",
          "text": [
            "Requirement already satisfied: Flask in /usr/local/lib/python3.10/dist-packages (2.2.5)\n",
            "Collecting pyngrok\n",
            "  Downloading pyngrok-7.1.6-py3-none-any.whl (22 kB)\n",
            "Collecting line-bot-sdk\n",
            "  Downloading line_bot_sdk-3.11.0-py2.py3-none-any.whl (758 kB)\n",
            "\u001b[2K     \u001b[90m━━━━━━━━━━━━━━━━━━━━━━━━━━━━━━━━━━━━━━━━\u001b[0m \u001b[32m758.4/758.4 kB\u001b[0m \u001b[31m4.9 MB/s\u001b[0m eta \u001b[36m0:00:00\u001b[0m\n",
            "\u001b[?25hRequirement already satisfied: requests in /usr/local/lib/python3.10/dist-packages (2.31.0)\n",
            "Collecting openai\n",
            "  Downloading openai-1.30.5-py3-none-any.whl (320 kB)\n",
            "\u001b[2K     \u001b[90m━━━━━━━━━━━━━━━━━━━━━━━━━━━━━━━━━━━━━━━━\u001b[0m \u001b[32m320.7/320.7 kB\u001b[0m \u001b[31m27.1 MB/s\u001b[0m eta \u001b[36m0:00:00\u001b[0m\n",
            "\u001b[?25hRequirement already satisfied: Werkzeug>=2.2.2 in /usr/local/lib/python3.10/dist-packages (from Flask) (3.0.3)\n",
            "Requirement already satisfied: Jinja2>=3.0 in /usr/local/lib/python3.10/dist-packages (from Flask) (3.1.4)\n",
            "Requirement already satisfied: itsdangerous>=2.0 in /usr/local/lib/python3.10/dist-packages (from Flask) (2.2.0)\n",
            "Requirement already satisfied: click>=8.0 in /usr/local/lib/python3.10/dist-packages (from Flask) (8.1.7)\n",
            "Requirement already satisfied: PyYAML>=5.1 in /usr/local/lib/python3.10/dist-packages (from pyngrok) (6.0.1)\n",
            "Requirement already satisfied: urllib3<3,>=2.0.5 in /usr/local/lib/python3.10/dist-packages (from line-bot-sdk) (2.0.7)\n",
            "Requirement already satisfied: aiohttp==3.9.5 in /usr/local/lib/python3.10/dist-packages (from line-bot-sdk) (3.9.5)\n",
            "Requirement already satisfied: future in /usr/local/lib/python3.10/dist-packages (from line-bot-sdk) (0.18.3)\n",
            "Requirement already satisfied: pydantic<3,>=2.0.3 in /usr/local/lib/python3.10/dist-packages (from line-bot-sdk) (2.7.1)\n",
            "Collecting aenum>=3.1.11 (from line-bot-sdk)\n",
            "  Downloading aenum-3.1.15-py3-none-any.whl (137 kB)\n",
            "\u001b[2K     \u001b[90m━━━━━━━━━━━━━━━━━━━━━━━━━━━━━━━━━━━━━━━━\u001b[0m \u001b[32m137.6/137.6 kB\u001b[0m \u001b[31m11.0 MB/s\u001b[0m eta \u001b[36m0:00:00\u001b[0m\n",
            "\u001b[?25hRequirement already satisfied: python-dateutil>=2.5.3 in /usr/local/lib/python3.10/dist-packages (from line-bot-sdk) (2.8.2)\n",
            "Collecting Deprecated (from line-bot-sdk)\n",
            "  Downloading Deprecated-1.2.14-py2.py3-none-any.whl (9.6 kB)\n",
            "Requirement already satisfied: charset-normalizer<4,>=2 in /usr/local/lib/python3.10/dist-packages (from requests) (3.3.2)\n",
            "Requirement already satisfied: idna<4,>=2.5 in /usr/local/lib/python3.10/dist-packages (from requests) (3.7)\n",
            "Requirement already satisfied: certifi>=2017.4.17 in /usr/local/lib/python3.10/dist-packages (from requests) (2024.2.2)\n",
            "Requirement already satisfied: aiosignal>=1.1.2 in /usr/local/lib/python3.10/dist-packages (from aiohttp==3.9.5->line-bot-sdk) (1.3.1)\n",
            "Requirement already satisfied: attrs>=17.3.0 in /usr/local/lib/python3.10/dist-packages (from aiohttp==3.9.5->line-bot-sdk) (23.2.0)\n",
            "Requirement already satisfied: frozenlist>=1.1.1 in /usr/local/lib/python3.10/dist-packages (from aiohttp==3.9.5->line-bot-sdk) (1.4.1)\n",
            "Requirement already satisfied: multidict<7.0,>=4.5 in /usr/local/lib/python3.10/dist-packages (from aiohttp==3.9.5->line-bot-sdk) (6.0.5)\n",
            "Requirement already satisfied: yarl<2.0,>=1.0 in /usr/local/lib/python3.10/dist-packages (from aiohttp==3.9.5->line-bot-sdk) (1.9.4)\n",
            "Requirement already satisfied: async-timeout<5.0,>=4.0 in /usr/local/lib/python3.10/dist-packages (from aiohttp==3.9.5->line-bot-sdk) (4.0.3)\n",
            "Requirement already satisfied: anyio<5,>=3.5.0 in /usr/local/lib/python3.10/dist-packages (from openai) (3.7.1)\n",
            "Requirement already satisfied: distro<2,>=1.7.0 in /usr/lib/python3/dist-packages (from openai) (1.7.0)\n",
            "Collecting httpx<1,>=0.23.0 (from openai)\n",
            "  Downloading httpx-0.27.0-py3-none-any.whl (75 kB)\n",
            "\u001b[2K     \u001b[90m━━━━━━━━━━━━━━━━━━━━━━━━━━━━━━━━━━━━━━━━\u001b[0m \u001b[32m75.6/75.6 kB\u001b[0m \u001b[31m6.5 MB/s\u001b[0m eta \u001b[36m0:00:00\u001b[0m\n",
            "\u001b[?25hRequirement already satisfied: sniffio in /usr/local/lib/python3.10/dist-packages (from openai) (1.3.1)\n",
            "Requirement already satisfied: tqdm>4 in /usr/local/lib/python3.10/dist-packages (from openai) (4.66.4)\n",
            "Requirement already satisfied: typing-extensions<5,>=4.7 in /usr/local/lib/python3.10/dist-packages (from openai) (4.11.0)\n",
            "Requirement already satisfied: exceptiongroup in /usr/local/lib/python3.10/dist-packages (from anyio<5,>=3.5.0->openai) (1.2.1)\n",
            "Collecting httpcore==1.* (from httpx<1,>=0.23.0->openai)\n",
            "  Downloading httpcore-1.0.5-py3-none-any.whl (77 kB)\n",
            "\u001b[2K     \u001b[90m━━━━━━━━━━━━━━━━━━━━━━━━━━━━━━━━━━━━━━━━\u001b[0m \u001b[32m77.9/77.9 kB\u001b[0m \u001b[31m6.1 MB/s\u001b[0m eta \u001b[36m0:00:00\u001b[0m\n",
            "\u001b[?25hCollecting h11<0.15,>=0.13 (from httpcore==1.*->httpx<1,>=0.23.0->openai)\n",
            "  Downloading h11-0.14.0-py3-none-any.whl (58 kB)\n",
            "\u001b[2K     \u001b[90m━━━━━━━━━━━━━━━━━━━━━━━━━━━━━━━━━━━━━━━━\u001b[0m \u001b[32m58.3/58.3 kB\u001b[0m \u001b[31m4.9 MB/s\u001b[0m eta \u001b[36m0:00:00\u001b[0m\n",
            "\u001b[?25hRequirement already satisfied: MarkupSafe>=2.0 in /usr/local/lib/python3.10/dist-packages (from Jinja2>=3.0->Flask) (2.1.5)\n",
            "Requirement already satisfied: annotated-types>=0.4.0 in /usr/local/lib/python3.10/dist-packages (from pydantic<3,>=2.0.3->line-bot-sdk) (0.7.0)\n",
            "Requirement already satisfied: pydantic-core==2.18.2 in /usr/local/lib/python3.10/dist-packages (from pydantic<3,>=2.0.3->line-bot-sdk) (2.18.2)\n",
            "Requirement already satisfied: six>=1.5 in /usr/local/lib/python3.10/dist-packages (from python-dateutil>=2.5.3->line-bot-sdk) (1.16.0)\n",
            "Requirement already satisfied: wrapt<2,>=1.10 in /usr/local/lib/python3.10/dist-packages (from Deprecated->line-bot-sdk) (1.14.1)\n",
            "Installing collected packages: aenum, pyngrok, h11, Deprecated, httpcore, line-bot-sdk, httpx, openai\n",
            "Successfully installed Deprecated-1.2.14 aenum-3.1.15 h11-0.14.0 httpcore-1.0.5 httpx-0.27.0 line-bot-sdk-3.11.0 openai-1.30.5 pyngrok-7.1.6\n"
          ]
        }
      ],
      "source": [
        "!pip install Flask pyngrok line-bot-sdk requests openai"
      ]
    },
    {
      "cell_type": "markdown",
      "metadata": {
        "id": "VzXvjjgC1ffZ"
      },
      "source": [
        "## 如果是在Google Colab上執行，請先執行以下程式碼"
      ]
    },
    {
      "cell_type": "code",
      "execution_count": 2,
      "metadata": {
        "id": "xCpJ4xMy1ffa"
      },
      "outputs": [],
      "source": [
        "from google.colab import userdata\n",
        "\n",
        "ngrok_authtoken = userdata.get('NGROK_AUTHTOKEN')\n",
        "line_channel_access_token = userdata.get('LINE_CHANNEL_ACCESS_TOKEN')\n",
        "line_channel_secret = userdata.get('LINE_CHANNEL_SECRET')\n",
        "openai_api_key = userdata.get('OPENAI_API_KEY')\n",
        "port = 5000"
      ]
    },
    {
      "cell_type": "code",
      "execution_count": 3,
      "metadata": {
        "id": "eTvmRLbj1ffb"
      },
      "outputs": [],
      "source": [
        "import os\n",
        "from pyngrok import ngrok"
      ]
    },
    {
      "cell_type": "code",
      "execution_count": 5,
      "metadata": {
        "colab": {
          "base_uri": "https://localhost:8080/"
        },
        "id": "xstUJCaQ1ffb",
        "outputId": "7e664945-59e6-4423-f69e-e856e3693853"
      },
      "outputs": [
        {
          "output_type": "stream",
          "name": "stdout",
          "text": [
            "https://e76e-34-170-167-23.ngrok-free.app\n"
          ]
        }
      ],
      "source": [
        "ngrok.set_auth_token(ngrok_authtoken)\n",
        "tunnel = ngrok.connect(5000, name=\"linebot_tunnel\")\n",
        "print(tunnel.public_url)"
      ]
    },
    {
      "cell_type": "code",
      "execution_count": null,
      "metadata": {
        "colab": {
          "background_save": true,
          "base_uri": "https://localhost:8080/"
        },
        "id": "Phvh3eaP1ffb",
        "outputId": "a8a89f54-c163-4bff-ed64-8a3b8b31f705"
      },
      "outputs": [
        {
          "output_type": "stream",
          "name": "stdout",
          "text": [
            " * Serving Flask app '__main__'\n",
            " * Debug mode: off\n"
          ]
        },
        {
          "output_type": "stream",
          "name": "stderr",
          "text": [
            "INFO:werkzeug:\u001b[31m\u001b[1mWARNING: This is a development server. Do not use it in a production deployment. Use a production WSGI server instead.\u001b[0m\n",
            " * Running on http://127.0.0.1:5000\n",
            "INFO:werkzeug:\u001b[33mPress CTRL+C to quit\u001b[0m\n",
            "INFO:werkzeug:127.0.0.1 - - [30/May/2024 04:55:11] \"POST / HTTP/1.1\" 200 -\n"
          ]
        },
        {
          "output_type": "stream",
          "name": "stdout",
          "text": [
            "BODY:  {\"destination\":\"U08e238379070624ecd3a6ba91e449e19\",\"events\":[]}\n",
            "BODY:  {\"destination\":\"U08e238379070624ecd3a6ba91e449e19\",\"events\":[{\"type\":\"message\",\"message\":{\"type\":\"text\",\"id\":\"510385751758995729\",\"quoteToken\":\"EouTWMPl_Jy_xJZvpW9LQbFHKtvv7SYLcsf8e7QQ9iXQ2XQx2-Dy3txhrFxt61M3krlRFB8r3bqFGq99wANJVF1EE6BmFn190sJfiV7rgEOI6Qx-aELdTALv1Ep7N7znj0KxZyD10sr0X5mUhmgnIw\",\"text\":\"HI\"},\"webhookEventId\":\"01HZ3XMEHQEK5YHVECW85P1N4N\",\"deliveryContext\":{\"isRedelivery\":false},\"timestamp\":1717044918332,\"source\":{\"type\":\"user\",\"userId\":\"Uc9d6d3d031222ca0e86cebfd151d295e\"},\"replyToken\":\"6e92388c104946c0a7b170510d20c9be\",\"mode\":\"active\"}]}\n",
            "EVENT:  type='message' source=UserSource(type='user', user_id='Uc9d6d3d031222ca0e86cebfd151d295e') timestamp=1717044918332 mode=<EventMode.ACTIVE: 'active'> webhook_event_id='01HZ3XMEHQEK5YHVECW85P1N4N' delivery_context=DeliveryContext(is_redelivery=False) reply_token='6e92388c104946c0a7b170510d20c9be' message=TextMessageContent(type='text', id='510385751758995729', text='HI', emojis=None, mention=None, quote_token='EouTWMPl_Jy_xJZvpW9LQbFHKtvv7SYLcsf8e7QQ9iXQ2XQx2-Dy3txhrFxt61M3krlRFB8r3bqFGq99wANJVF1EE6BmFn190sJfiV7rgEOI6Qx-aELdTALv1Ep7N7znj0KxZyD10sr0X5mUhmgnIw', quoted_message_id=None)\n"
          ]
        },
        {
          "output_type": "stream",
          "name": "stderr",
          "text": [
            "INFO:werkzeug:127.0.0.1 - - [30/May/2024 04:55:19] \"POST / HTTP/1.1\" 200 -\n"
          ]
        }
      ],
      "source": [
        "from flask import Flask, request, abort\n",
        "\n",
        "from linebot.v3 import (\n",
        "    WebhookHandler\n",
        ")\n",
        "from linebot.v3.exceptions import (\n",
        "    InvalidSignatureError\n",
        ")\n",
        "from linebot.v3.messaging import (\n",
        "    Configuration,\n",
        "    ApiClient,\n",
        "    MessagingApi,\n",
        "    ReplyMessageRequest,\n",
        "    TextMessage,\n",
        ")\n",
        "\n",
        "from linebot.v3.webhooks import (\n",
        "    MessageEvent,\n",
        "    TextMessageContent,\n",
        ")\n",
        "\n",
        "app = Flask(__name__)\n",
        "\n",
        "configuration = Configuration(access_token=line_channel_access_token)\n",
        "handler = WebhookHandler(line_channel_secret)\n",
        "\n",
        "\n",
        "@app.route(\"/\", methods=['POST'])\n",
        "def callback():\n",
        "    # get X-Line-Signature header value\n",
        "    signature = request.headers['X-Line-Signature']\n",
        "\n",
        "    # get request body as text\n",
        "    body = request.get_data(as_text=True)\n",
        "    print(\"BODY: \", body)\n",
        "    app.logger.info(\"Request body: \" + body)\n",
        "\n",
        "    # handle webhook body\n",
        "    try:\n",
        "        handler.handle(body, signature)\n",
        "    except InvalidSignatureError:\n",
        "        app.logger.info(\"Invalid signature. Please check your channel access token/channel secret.\")\n",
        "        abort(400)\n",
        "\n",
        "    return 'OK'\n",
        "\n",
        "\n",
        "@handler.add(MessageEvent, message=TextMessageContent)\n",
        "def handle_message(event):\n",
        "    print(\"EVENT: \", event)\n",
        "    with ApiClient(configuration) as api_client:\n",
        "        line_bot_api = MessagingApi(api_client)\n",
        "        line_bot_api.reply_message_with_http_info(\n",
        "            ReplyMessageRequest(\n",
        "                reply_token=event.reply_token,\n",
        "                messages=[TextMessage(text=event.message.text),\n",
        "                            TextMessage(text=event.message.text)]\n",
        "            )\n",
        "        )\n",
        "\n",
        "if __name__ == \"__main__\":\n",
        "    app.run(port=port)"
      ]
    },
    {
      "cell_type": "code",
      "execution_count": null,
      "metadata": {
        "id": "iXqyzr2O1ffb"
      },
      "outputs": [],
      "source": [
        "ok.disconnect(tunnel.public_url)"
      ]
    }
  ],
  "metadata": {
    "colab": {
      "provenance": []
    },
    "kernelspec": {
      "display_name": "linebot",
      "language": "python",
      "name": "python3"
    },
    "language_info": {
      "codemirror_mode": {
        "name": "ipython",
        "version": 3
      },
      "file_extension": ".py",
      "mimetype": "text/x-python",
      "name": "python",
      "nbconvert_exporter": "python",
      "pygments_lexer": "ipython3",
      "version": "3.12.3"
    }
  },
  "nbformat": 4,
  "nbformat_minor": 0
}