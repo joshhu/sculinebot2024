{
 "cells": [
  {
   "cell_type": "markdown",
   "metadata": {},
   "source": [
    "### 啟動`ngrok`\n",
    "- 在Linux和Mac下可以輸入`sudo kill -9 \"$(pgrep ngrok)\"`來關閉`ngrok`，然後再重新啟動`ngrok`。\n",
    "- 在Windows下用工作管理員尋找vscode中的ngrok並結束工作"
   ]
  },
  {
   "cell_type": "code",
   "execution_count": null,
   "metadata": {},
   "outputs": [],
   "source": [
    "# 在linux及mac之下執行這個刪除原來行程\n",
    "\n",
    "!sudo kill -9 \"$(pgrep ngrok)\""
   ]
  },
  {
   "cell_type": "code",
   "execution_count": 2,
   "metadata": {},
   "outputs": [],
   "source": [
    "import os\n",
    "from pyngrok import ngrok"
   ]
  },
  {
   "cell_type": "markdown",
   "metadata": {},
   "source": [
    "## 下面是錯誤的做法"
   ]
  },
  {
   "cell_type": "code",
   "execution_count": 2,
   "metadata": {},
   "outputs": [],
   "source": [
    "NGROK_KEY=\"2fVi1oMPstgbv7paYLZM5gVf4Xf_4HrmsUZebqbSTuicxXtXK\"\n",
    "ngrok_key = NGROK_KEY\n",
    "port = 5000"
   ]
  },
  {
   "cell_type": "code",
   "execution_count": 4,
   "metadata": {},
   "outputs": [
    {
     "name": "stdout",
     "output_type": "stream",
     "text": [
      "https://1aa4-36-231-99-147.ngrok-free.app\n"
     ]
    }
   ],
   "source": [
    "ngrok.set_auth_token(ngrok_key)\n",
    "tunnel = ngrok.connect(5000, name=\"linebot_tunnel\")\n",
    "print(tunnel.public_url)"
   ]
  },
  {
   "cell_type": "code",
   "execution_count": 1,
   "metadata": {},
   "outputs": [
    {
     "ename": "NameError",
     "evalue": "name 'ngrok' is not defined",
     "output_type": "error",
     "traceback": [
      "\u001b[1;31m---------------------------------------------------------------------------\u001b[0m",
      "\u001b[1;31mNameError\u001b[0m                                 Traceback (most recent call last)",
      "Cell \u001b[1;32mIn[1], line 1\u001b[0m\n\u001b[1;32m----> 1\u001b[0m \u001b[43mngrok\u001b[49m\u001b[38;5;241m.\u001b[39mdisconnect(tunnel\u001b[38;5;241m.\u001b[39mpublic_url)\n",
      "\u001b[1;31mNameError\u001b[0m: name 'ngrok' is not defined"
     ]
    }
   ],
   "source": [
    "ngrok.disconnect(tunnel.public_url)"
   ]
  }
 ],
 "metadata": {
  "kernelspec": {
   "display_name": "linebot",
   "language": "python",
   "name": "python3"
  },
  "language_info": {
   "codemirror_mode": {
    "name": "ipython",
    "version": 3
   },
   "file_extension": ".py",
   "mimetype": "text/x-python",
   "name": "python",
   "nbconvert_exporter": "python",
   "pygments_lexer": "ipython3",
   "version": "3.12.3"
  }
 },
 "nbformat": 4,
 "nbformat_minor": 2
}
