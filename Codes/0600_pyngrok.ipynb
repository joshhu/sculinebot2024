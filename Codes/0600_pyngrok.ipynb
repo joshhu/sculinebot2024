{
 "cells": [
  {
   "cell_type": "markdown",
   "metadata": {},
   "source": [
    "### 啟動`ngrok`\n",
    "- 在Linux和Mac下可以輸入`sudo kill -9 \"$(pgrep ngrok)\"`來關閉`ngrok`，然後再重新啟動`ngrok`。\n",
    "- 在Windows下用工作管理員尋找vscode中的ngrok並結束工作"
   ]
  },
  {
   "cell_type": "code",
   "execution_count": null,
   "metadata": {},
   "outputs": [],
   "source": [
    "# 在linux及mac之下執行這個刪除原來行程\n",
    "\n",
    "!sudo kill -9 \"$(pgrep ngrok)\""
   ]
  },
  {
   "cell_type": "code",
   "execution_count": 1,
   "metadata": {},
   "outputs": [],
   "source": [
    "import os\n",
    "from pyngrok import ngrok"
   ]
  },
  {
   "cell_type": "code",
   "execution_count": 2,
   "metadata": {},
   "outputs": [],
   "source": [
    "ngrok_key = os.environ.get('NGROK_KEY')\n",
    "port = 5000"
   ]
  },
  {
   "cell_type": "code",
   "execution_count": 4,
   "metadata": {},
   "outputs": [
    {
     "name": "stdout",
     "output_type": "stream",
     "text": [
      "https://86c9-36-231-78-95.ngrok-free.app\n"
     ]
    }
   ],
   "source": [
    "ngrok.set_auth_token(ngrok_key)\n",
    "tunnel = ngrok.connect(5000, name=\"linebot_tunnel\")\n",
    "print(tunnel.public_url)"
   ]
  },
  {
   "cell_type": "code",
   "execution_count": 4,
   "metadata": {},
   "outputs": [
    {
     "name": "stderr",
     "output_type": "stream",
     "text": [
      "t=2024-05-13T23:34:41+0800 lvl=warn msg=\"Stopping forwarder\" name=linebot_tunnel acceptErr=\"failed to accept connection: Listener closed\"\n"
     ]
    }
   ],
   "source": [
    "ngrok.disconnect(tunnel.public_url)"
   ]
  }
 ],
 "metadata": {
  "kernelspec": {
   "display_name": "linebot",
   "language": "python",
   "name": "python3"
  },
  "language_info": {
   "codemirror_mode": {
    "name": "ipython",
    "version": 3
   },
   "file_extension": ".py",
   "mimetype": "text/x-python",
   "name": "python",
   "nbconvert_exporter": "python",
   "pygments_lexer": "ipython3",
   "version": "3.12.3"
  }
 },
 "nbformat": 4,
 "nbformat_minor": 2
}
